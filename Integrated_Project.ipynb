{
 "cells": [
  {
   "cell_type": "markdown",
   "metadata": {},
   "source": [
    "**Review**\n",
    "\n",
    "Hi, my name is Dmitry and I will be reviewing your project.\n",
    "  \n",
    "You can find my comments in colored markdown cells:\n",
    "  \n",
    "<div class=\"alert alert-success\">\n",
    "  If everything is done successfully.\n",
    "</div>\n",
    "  \n",
    "<div class=\"alert alert-warning\">\n",
    "  If I have some (optional) suggestions, or questions to think about, or general comments.\n",
    "</div>\n",
    "  \n",
    "<div class=\"alert alert-danger\">\n",
    "  If a section requires some corrections. Work can't be accepted with red comments.\n",
    "</div>\n",
    "  \n",
    "Please don't remove my comments, as it will make further review iterations much harder for me.\n",
    "  \n",
    "Feel free to reply to my comments or ask questions using the following template:\n",
    "  \n",
    "<div class=\"alert alert-info\">\n",
    "  For your comments and questions.\n",
    "</div>\n",
    "  \n",
    "First of all, thank you for turning in the project! You did an excellent job! The project is accepted. Keep up the good work on the next sprint!"
   ]
  },
  {
   "cell_type": "markdown",
   "metadata": {},
   "source": [
    "Introduction: I work for the OilyGiant mining company. My task is to find the best place for a new well.\n",
    "\n",
    "Steps to choose the location:\n",
    "- Collect the oil well parameters in the selected region: oil quality and volume of reserves;\n",
    "- Build a model for predicting the volume of reserves in the new wells;\n",
    "- Pick the oil wells with the highest estimated values;\n",
    "- Pick the region with the highest total profit for the selected oil wells.\n",
    "\n",
    "I have data on oil samples from three regions. Parameters of each oil well in the region are already known. Build a model that will help to pick the region with the highest profit margin. Analyze potential profit and risks using the Bootstrapping technique."
   ]
  },
  {
   "cell_type": "code",
   "execution_count": 1,
   "metadata": {},
   "outputs": [],
   "source": [
    "import pandas as pd\n",
    "import numpy as np\n",
    "from sklearn.model_selection import train_test_split\n",
    "from sklearn.linear_model import LinearRegression\n",
    "from sklearn.metrics import mean_squared_error\n",
    "from matplotlib import pyplot as plt"
   ]
  },
  {
   "cell_type": "code",
   "execution_count": 2,
   "metadata": {},
   "outputs": [],
   "source": [
    "df0 = pd.read_csv(\"/datasets/geo_data_0.csv\")\n",
    "df1 = pd.read_csv(\"/datasets/geo_data_1.csv\")\n",
    "df2 = pd.read_csv(\"/datasets/geo_data_2.csv\")"
   ]
  },
  {
   "cell_type": "code",
   "execution_count": 3,
   "metadata": {},
   "outputs": [
    {
     "data": {
      "text/plain": [
       "id         False\n",
       "f0         False\n",
       "f1         False\n",
       "f2         False\n",
       "product    False\n",
       "dtype: bool"
      ]
     },
     "execution_count": 3,
     "metadata": {},
     "output_type": "execute_result"
    }
   ],
   "source": [
    "#check for NaNs\n",
    "df0.isna().any()"
   ]
  },
  {
   "cell_type": "code",
   "execution_count": 4,
   "metadata": {},
   "outputs": [
    {
     "data": {
      "text/plain": [
       "id         False\n",
       "f0         False\n",
       "f1         False\n",
       "f2         False\n",
       "product    False\n",
       "dtype: bool"
      ]
     },
     "execution_count": 4,
     "metadata": {},
     "output_type": "execute_result"
    }
   ],
   "source": [
    "df1.isna().any()"
   ]
  },
  {
   "cell_type": "code",
   "execution_count": 5,
   "metadata": {},
   "outputs": [
    {
     "data": {
      "text/plain": [
       "id         False\n",
       "f0         False\n",
       "f1         False\n",
       "f2         False\n",
       "product    False\n",
       "dtype: bool"
      ]
     },
     "execution_count": 5,
     "metadata": {},
     "output_type": "execute_result"
    }
   ],
   "source": [
    "df2.isna().any()"
   ]
  },
  {
   "cell_type": "code",
   "execution_count": 6,
   "metadata": {},
   "outputs": [
    {
     "data": {
      "text/plain": [
       "False"
      ]
     },
     "execution_count": 6,
     "metadata": {},
     "output_type": "execute_result"
    }
   ],
   "source": [
    "#check for duplicates\n",
    "df0.duplicated().any()"
   ]
  },
  {
   "cell_type": "code",
   "execution_count": 7,
   "metadata": {},
   "outputs": [
    {
     "data": {
      "text/plain": [
       "False"
      ]
     },
     "execution_count": 7,
     "metadata": {},
     "output_type": "execute_result"
    }
   ],
   "source": [
    "df1.duplicated().any()"
   ]
  },
  {
   "cell_type": "code",
   "execution_count": 8,
   "metadata": {},
   "outputs": [
    {
     "data": {
      "text/plain": [
       "False"
      ]
     },
     "execution_count": 8,
     "metadata": {},
     "output_type": "execute_result"
    }
   ],
   "source": [
    "df2.duplicated().any()"
   ]
  },
  {
   "cell_type": "code",
   "execution_count": 9,
   "metadata": {},
   "outputs": [
    {
     "data": {
      "text/html": [
       "<div>\n",
       "<style scoped>\n",
       "    .dataframe tbody tr th:only-of-type {\n",
       "        vertical-align: middle;\n",
       "    }\n",
       "\n",
       "    .dataframe tbody tr th {\n",
       "        vertical-align: top;\n",
       "    }\n",
       "\n",
       "    .dataframe thead th {\n",
       "        text-align: right;\n",
       "    }\n",
       "</style>\n",
       "<table border=\"1\" class=\"dataframe\">\n",
       "  <thead>\n",
       "    <tr style=\"text-align: right;\">\n",
       "      <th></th>\n",
       "      <th>id</th>\n",
       "      <th>f0</th>\n",
       "      <th>f1</th>\n",
       "      <th>f2</th>\n",
       "      <th>product</th>\n",
       "    </tr>\n",
       "  </thead>\n",
       "  <tbody>\n",
       "    <tr>\n",
       "      <th>0</th>\n",
       "      <td>txEyH</td>\n",
       "      <td>0.705745</td>\n",
       "      <td>-0.497823</td>\n",
       "      <td>1.221170</td>\n",
       "      <td>105.280062</td>\n",
       "    </tr>\n",
       "    <tr>\n",
       "      <th>1</th>\n",
       "      <td>2acmU</td>\n",
       "      <td>1.334711</td>\n",
       "      <td>-0.340164</td>\n",
       "      <td>4.365080</td>\n",
       "      <td>73.037750</td>\n",
       "    </tr>\n",
       "    <tr>\n",
       "      <th>2</th>\n",
       "      <td>409Wp</td>\n",
       "      <td>1.022732</td>\n",
       "      <td>0.151990</td>\n",
       "      <td>1.419926</td>\n",
       "      <td>85.265647</td>\n",
       "    </tr>\n",
       "    <tr>\n",
       "      <th>3</th>\n",
       "      <td>iJLyR</td>\n",
       "      <td>-0.032172</td>\n",
       "      <td>0.139033</td>\n",
       "      <td>2.978566</td>\n",
       "      <td>168.620776</td>\n",
       "    </tr>\n",
       "    <tr>\n",
       "      <th>4</th>\n",
       "      <td>Xdl7t</td>\n",
       "      <td>1.988431</td>\n",
       "      <td>0.155413</td>\n",
       "      <td>4.751769</td>\n",
       "      <td>154.036647</td>\n",
       "    </tr>\n",
       "    <tr>\n",
       "      <th>...</th>\n",
       "      <td>...</td>\n",
       "      <td>...</td>\n",
       "      <td>...</td>\n",
       "      <td>...</td>\n",
       "      <td>...</td>\n",
       "    </tr>\n",
       "    <tr>\n",
       "      <th>99995</th>\n",
       "      <td>DLsed</td>\n",
       "      <td>0.971957</td>\n",
       "      <td>0.370953</td>\n",
       "      <td>6.075346</td>\n",
       "      <td>110.744026</td>\n",
       "    </tr>\n",
       "    <tr>\n",
       "      <th>99996</th>\n",
       "      <td>QKivN</td>\n",
       "      <td>1.392429</td>\n",
       "      <td>-0.382606</td>\n",
       "      <td>1.273912</td>\n",
       "      <td>122.346843</td>\n",
       "    </tr>\n",
       "    <tr>\n",
       "      <th>99997</th>\n",
       "      <td>3rnvd</td>\n",
       "      <td>1.029585</td>\n",
       "      <td>0.018787</td>\n",
       "      <td>-1.348308</td>\n",
       "      <td>64.375443</td>\n",
       "    </tr>\n",
       "    <tr>\n",
       "      <th>99998</th>\n",
       "      <td>7kl59</td>\n",
       "      <td>0.998163</td>\n",
       "      <td>-0.528582</td>\n",
       "      <td>1.583869</td>\n",
       "      <td>74.040764</td>\n",
       "    </tr>\n",
       "    <tr>\n",
       "      <th>99999</th>\n",
       "      <td>1CWhH</td>\n",
       "      <td>1.764754</td>\n",
       "      <td>-0.266417</td>\n",
       "      <td>5.722849</td>\n",
       "      <td>149.633246</td>\n",
       "    </tr>\n",
       "  </tbody>\n",
       "</table>\n",
       "<p>100000 rows × 5 columns</p>\n",
       "</div>"
      ],
      "text/plain": [
       "          id        f0        f1        f2     product\n",
       "0      txEyH  0.705745 -0.497823  1.221170  105.280062\n",
       "1      2acmU  1.334711 -0.340164  4.365080   73.037750\n",
       "2      409Wp  1.022732  0.151990  1.419926   85.265647\n",
       "3      iJLyR -0.032172  0.139033  2.978566  168.620776\n",
       "4      Xdl7t  1.988431  0.155413  4.751769  154.036647\n",
       "...      ...       ...       ...       ...         ...\n",
       "99995  DLsed  0.971957  0.370953  6.075346  110.744026\n",
       "99996  QKivN  1.392429 -0.382606  1.273912  122.346843\n",
       "99997  3rnvd  1.029585  0.018787 -1.348308   64.375443\n",
       "99998  7kl59  0.998163 -0.528582  1.583869   74.040764\n",
       "99999  1CWhH  1.764754 -0.266417  5.722849  149.633246\n",
       "\n",
       "[100000 rows x 5 columns]"
      ]
     },
     "execution_count": 9,
     "metadata": {},
     "output_type": "execute_result"
    }
   ],
   "source": [
    "df0"
   ]
  },
  {
   "cell_type": "markdown",
   "metadata": {},
   "source": [
    "<div class=\"alert alert-success\">\n",
    "<b>Reviewer's comment</b>\n",
    "\n",
    "The data was loaded and inspected!\n",
    "\n",
    "</div>"
   ]
  },
  {
   "cell_type": "code",
   "execution_count": 10,
   "metadata": {},
   "outputs": [],
   "source": [
    "def data_split(data):\n",
    "    # Split the data into training and validation sets (75:25 ratio)\n",
    "    features = data.drop(columns=['id', 'product'])\n",
    "    target = data['product']\n",
    "    features_train, features_valid, target_train, target_valid = train_test_split(features, target, test_size=0.25, random_state=12345)\n",
    "    print(features_train.shape, features_valid.shape, target_train.shape, target_valid.shape)\n",
    "    return features_train, features_valid, target_train, target_valid"
   ]
  },
  {
   "cell_type": "code",
   "execution_count": 11,
   "metadata": {},
   "outputs": [
    {
     "name": "stdout",
     "output_type": "stream",
     "text": [
      "(75000, 3) (25000, 3) (75000,) (25000,)\n"
     ]
    }
   ],
   "source": [
    "features_train0, features_valid0, target_train0, target_valid0 = data_split(df0)"
   ]
  },
  {
   "cell_type": "code",
   "execution_count": 12,
   "metadata": {},
   "outputs": [
    {
     "name": "stdout",
     "output_type": "stream",
     "text": [
      "(75000, 3) (25000, 3) (75000,) (25000,)\n"
     ]
    }
   ],
   "source": [
    "features_train1, features_valid1, target_train1, target_valid1 = data_split(df1)"
   ]
  },
  {
   "cell_type": "code",
   "execution_count": 13,
   "metadata": {},
   "outputs": [
    {
     "name": "stdout",
     "output_type": "stream",
     "text": [
      "(75000, 3) (25000, 3) (75000,) (25000,)\n"
     ]
    }
   ],
   "source": [
    "features_train2, features_valid2, target_train2, target_valid2 = data_split(df2)"
   ]
  },
  {
   "cell_type": "markdown",
   "metadata": {},
   "source": [
    "<div class=\"alert alert-success\">\n",
    "<b>Reviewer's comment</b>\n",
    "\n",
    "The data was split into train and validation sets\n",
    "\n",
    "</div>"
   ]
  },
  {
   "cell_type": "code",
   "execution_count": 14,
   "metadata": {},
   "outputs": [],
   "source": [
    "def linear_regression_model(features_train, features_valid, target_train, target_valid):\n",
    "    model = LinearRegression()\n",
    "    \n",
    "    # Train the model\n",
    "    model.fit(features_train, target_train)\n",
    "    \n",
    "    # Make Predictions\n",
    "    target_predicted = model.predict(features_valid)\n",
    "    \n",
    "    # Calculate the rsme\n",
    "    rmse = np.sqrt(mean_squared_error(target_valid, target_predicted))\n",
    "    \n",
    "    # Calculate the average volume of predicted reserves\n",
    "    avg_predicted_reserve = target_predicted.mean()\n",
    "    \n",
    "    # Print results\n",
    "    print(f'RMSE: {rmse}')\n",
    "    print(f'Average Predicted Reserves: {avg_predicted_reserve}')\n",
    "    \n",
    "    return target_predicted"
   ]
  },
  {
   "cell_type": "code",
   "execution_count": 15,
   "metadata": {},
   "outputs": [
    {
     "name": "stdout",
     "output_type": "stream",
     "text": [
      "Region 0\n",
      "RMSE: 37.5794217150813\n",
      "Average Predicted Reserves: 92.59256778438035\n"
     ]
    }
   ],
   "source": [
    "print('Region 0')\n",
    "target_predicted0 = linear_regression_model(features_train0, features_valid0, target_train0, target_valid0)"
   ]
  },
  {
   "cell_type": "code",
   "execution_count": 16,
   "metadata": {},
   "outputs": [
    {
     "name": "stdout",
     "output_type": "stream",
     "text": [
      "Region 1\n",
      "RMSE: 0.893099286775617\n",
      "Average Predicted Reserves: 68.728546895446\n"
     ]
    }
   ],
   "source": [
    "print('Region 1')\n",
    "target_predicted1 = linear_regression_model(features_train1, features_valid1, target_train1, target_valid1)"
   ]
  },
  {
   "cell_type": "code",
   "execution_count": 17,
   "metadata": {},
   "outputs": [
    {
     "name": "stdout",
     "output_type": "stream",
     "text": [
      "Region 2\n",
      "RMSE: 40.02970873393434\n",
      "Average Predicted Reserves: 94.96504596800489\n"
     ]
    }
   ],
   "source": [
    "print('Region 2')\n",
    "target_predicted2 = linear_regression_model(features_train2, features_valid2, target_train2, target_valid2)"
   ]
  },
  {
   "cell_type": "markdown",
   "metadata": {},
   "source": [
    "These results provide information about the accuracy of the linear regression models for each region in predicting the reserves. Lower RMSE values indicate better model performance, and the average predicted reserves give an estimate of the expected reserves in each region based on the model's predictions. Region 1 stands out with a very low RMSE, suggesting better predictive accuracy compared to the other regions."
   ]
  },
  {
   "cell_type": "markdown",
   "metadata": {},
   "source": [
    "<div class=\"alert alert-success\">\n",
    "<b>Reviewer's comment</b>\n",
    "\n",
    "The models were trained and evaluated correctly\n",
    "\n",
    "</div>"
   ]
  },
  {
   "cell_type": "code",
   "execution_count": 18,
   "metadata": {},
   "outputs": [
    {
     "name": "stdout",
     "output_type": "stream",
     "text": [
      "111.11111111111111\n"
     ]
    }
   ],
   "source": [
    "# Store all key values for calculations in separate variables\n",
    "budget = 100e6  # Budget for development of 200 oil wells in USD\n",
    "revenue_per_barrel = 4.5  # Revenue per barrel in USD\n",
    "revenue_per_unit = 4500  # Revenue per unit of product in USD (in thousand barrels)\n",
    "cost_per_well = budget / 200  # Cost for each well\n",
    "num_best_wells = 200 \n",
    "    \n",
    "# Calculate the volume of reserves sufficient for developing a new well without losses\n",
    "min_reserve_volume = cost_per_well / revenue_per_unit\n",
    "print(min_reserve_volume)"
   ]
  },
  {
   "cell_type": "markdown",
   "metadata": {},
   "source": [
    "The value obtained for min_reserve_volume is approximately 111.11. This value represents the minimum volume of reserves  required for developing a new well without incurring losses.\n",
    "\n",
    "In all regions, the average predicted reserves are much lower than the minimum reserve volume necessary to hit profitability."
   ]
  },
  {
   "cell_type": "markdown",
   "metadata": {},
   "source": [
    "<div class=\"alert alert-success\">\n",
    "<b>Reviewer's comment</b>\n",
    "\n",
    "Calculation is correct! Conclusion makes sense, indeed if we select the wells randomly we're going to lose money on average.\n",
    "\n",
    "</div>"
   ]
  },
  {
   "cell_type": "code",
   "execution_count": 19,
   "metadata": {},
   "outputs": [],
   "source": [
    "# Create a function for calculating profit\n",
    "def profit(target, predictions, count):\n",
    "    #Select the top wells\n",
    "    target = target.reset_index(drop=True)\n",
    "    predictions = pd.Series(predictions)\n",
    "    top_wells = predictions.sort_values(ascending=False).head(count).index\n",
    "    \n",
    "    #Sum up top well total reserves\n",
    "    total_reserves = target.loc[top_wells].sum()\n",
    "    \n",
    "    #Calculate profit\n",
    "    revenue = total_reserves * revenue_per_unit\n",
    "    profit = revenue - budget\n",
    "    return profit.round(2)"
   ]
  },
  {
   "cell_type": "markdown",
   "metadata": {},
   "source": [
    "<div class=\"alert alert-success\">\n",
    "<b>Reviewer's comment</b>\n",
    "\n",
    "Profit is calculated correctly!\n",
    "\n",
    "</div>"
   ]
  },
  {
   "cell_type": "code",
   "execution_count": 20,
   "metadata": {},
   "outputs": [
    {
     "name": "stdout",
     "output_type": "stream",
     "text": [
      "Region 0\n"
     ]
    },
    {
     "data": {
      "text/plain": [
       "33208260.43"
      ]
     },
     "execution_count": 20,
     "metadata": {},
     "output_type": "execute_result"
    }
   ],
   "source": [
    "print(\"Region 0\")\n",
    "profit(target_valid0, target_predicted0, num_best_wells)"
   ]
  },
  {
   "cell_type": "code",
   "execution_count": 21,
   "metadata": {},
   "outputs": [
    {
     "name": "stdout",
     "output_type": "stream",
     "text": [
      "Region 1\n"
     ]
    },
    {
     "data": {
      "text/plain": [
       "24150866.97"
      ]
     },
     "execution_count": 21,
     "metadata": {},
     "output_type": "execute_result"
    }
   ],
   "source": [
    "print(\"Region 1\")\n",
    "profit(target_valid1, target_predicted1, num_best_wells)"
   ]
  },
  {
   "cell_type": "code",
   "execution_count": 22,
   "metadata": {},
   "outputs": [
    {
     "name": "stdout",
     "output_type": "stream",
     "text": [
      "Region 2\n"
     ]
    },
    {
     "data": {
      "text/plain": [
       "27103499.64"
      ]
     },
     "execution_count": 22,
     "metadata": {},
     "output_type": "execute_result"
    }
   ],
   "source": [
    "print(\"Region 2\")\n",
    "profit(target_valid2, target_predicted2, num_best_wells)"
   ]
  },
  {
   "cell_type": "markdown",
   "metadata": {},
   "source": [
    "Initially, it looks like the most profitable would be Region 0 if we only selected the 200 best wells."
   ]
  },
  {
   "cell_type": "markdown",
   "metadata": {},
   "source": [
    "<div class=\"alert alert-warning\">\n",
    "<b>Reviewer's comment</b>\n",
    "\n",
    "Right, but the those are overall top 200 wells, this is only really possible if we have access to predictions for all 25000 wells in the validation set, but we only have the budget to make initial measurements at 500 locations (for which we can make predictions)\n",
    "\n",
    "</div>"
   ]
  },
  {
   "cell_type": "code",
   "execution_count": 23,
   "metadata": {},
   "outputs": [],
   "source": [
    "state = np.random.RandomState(12345)\n",
    "\n",
    "# Create a bootstrap function\n",
    "def bootstrap(target, predictions, n_samples, n_wells):\n",
    "    profit_values = []\n",
    "    \n",
    "    predictions = pd.Series(predictions, index=target.index)\n",
    "    \n",
    "    for i in range(n_samples):\n",
    "        target_subsample = target.sample(n=n_samples, replace=True, random_state=state)\n",
    "        probs_subsample = predictions[target_subsample.index]\n",
    "        \n",
    "        top_wells = probs_subsample.sort_values(ascending=False).head(n_wells).index\n",
    "        total_reserves = target_subsample.loc[top_wells].sum()\n",
    "        \n",
    "        revenue = total_reserves * revenue_per_unit\n",
    "        profit = revenue - budget\n",
    "\n",
    "        profit_values.append(profit)\n",
    "    \n",
    "    \n",
    "    profit_values = pd.Series(profit_values)\n",
    "    \n",
    "    risk_percentage = (profit_values < 0).mean() * 100\n",
    "    lower = profit_values.quantile(0.025)\n",
    "    upper = profit_values.quantile(0.975)\n",
    "    mean_profit = round(profit_values.mean(),2)\n",
    "    \n",
    "    print(f'The lower and upper bound values are {[lower, upper]}.')\n",
    "    print(f'The average profit is ${mean_profit}.')\n",
    "    print(f'The risk of losses is {risk_percentage:.2f} %.')\n",
    "    \n",
    "    return profit_values"
   ]
  },
  {
   "cell_type": "markdown",
   "metadata": {},
   "source": [
    "<div class=\"alert alert-success\">\n",
    "<b>Reviewer's comment</b>\n",
    "\n",
    "Bootstrapping is done correctly, all needed statistics of the profit distribution are calculated\n",
    "\n",
    "</div>"
   ]
  },
  {
   "cell_type": "code",
   "execution_count": 24,
   "metadata": {},
   "outputs": [
    {
     "name": "stdout",
     "output_type": "stream",
     "text": [
      "The lower and upper bound values are [-131029.41995368074, 12100787.3393694].\n",
      "The average profit is $5922715.17.\n",
      "The risk of losses is 2.60 %.\n"
     ]
    }
   ],
   "source": [
    "region0_values = bootstrap(target_valid0, target_predicted0, 500, 200)"
   ]
  },
  {
   "cell_type": "code",
   "execution_count": 25,
   "metadata": {},
   "outputs": [
    {
     "name": "stdout",
     "output_type": "stream",
     "text": [
      "The lower and upper bound values are [1631946.0735454706, 12351589.718232268].\n",
      "The average profit is $6611935.91.\n",
      "The risk of losses is 0.20 %.\n"
     ]
    }
   ],
   "source": [
    "region1_values = bootstrap(target_valid1, target_predicted1, 500, 200)"
   ]
  },
  {
   "cell_type": "code",
   "execution_count": 26,
   "metadata": {},
   "outputs": [
    {
     "name": "stdout",
     "output_type": "stream",
     "text": [
      "The lower and upper bound values are [318550.34419104166, 12382533.388727367].\n",
      "The average profit is $6261671.97.\n",
      "The risk of losses is 2.00 %.\n"
     ]
    }
   ],
   "source": [
    "region2_values = bootstrap(target_valid2, target_predicted2, 500, 200)"
   ]
  },
  {
   "cell_type": "markdown",
   "metadata": {},
   "source": [
    "After using the bootstrap function, Region 1 has the highest average profit with the least risk."
   ]
  },
  {
   "cell_type": "code",
   "execution_count": 27,
   "metadata": {},
   "outputs": [
    {
     "data": {
      "image/png": "[encoded data removed]",
      "text/plain": [
       "<Figure size 640x480 with 1 Axes>"
      ]
     },
     "metadata": {},
     "output_type": "display_data"
    }
   ],
   "source": [
    "plt.hist(region0_values)\n",
    "plt.title('Region 0 - Profit Distribution for 200 Sampled Wells')\n",
    "plt.xlabel('Profit - $10 Million USD')\n",
    "plt.ylabel('Count of Oil Wells')\n",
    "plt.show()"
   ]
  },
  {
   "cell_type": "code",
   "execution_count": 28,
   "metadata": {},
   "outputs": [
    {
     "data": {
      "image/png": "[encoded data removed]",
      "text/plain": [
       "<Figure size 640x480 with 1 Axes>"
      ]
     },
     "metadata": {},
     "output_type": "display_data"
    }
   ],
   "source": [
    "plt.hist(region1_values)\n",
    "plt.title('Region 1 - Profit Distribution for 200 Sampled Wells')\n",
    "plt.xlabel('Profit - $10 Million USD')\n",
    "plt.ylabel('Count of Oil Wells')\n",
    "plt.show()"
   ]
  },
  {
   "cell_type": "code",
   "execution_count": 29,
   "metadata": {},
   "outputs": [
    {
     "data": {
      "image/png": "[encoded data removed]",
      "text/plain": [
       "<Figure size 640x480 with 1 Axes>"
      ]
     },
     "metadata": {},
     "output_type": "display_data"
    }
   ],
   "source": [
    "plt.hist(region2_values)\n",
    "plt.title('Region 2 - Profit Distribution for 200 Sampled Wells')\n",
    "plt.xlabel('Profit - $10 Million USD')\n",
    "plt.ylabel('Count of Oil Wells')\n",
    "plt.show()"
   ]
  },
  {
   "cell_type": "markdown",
   "metadata": {},
   "source": [
    "In conclusion, I would justify that region 1 is the best region to build 200 wells on, because the risk of loss is the lowest of the 3 regions and the average profit is the highest of the 3 regions. While region 1 (68.7) has the lowest average predicted reserves compared to region 0 (92.6) and region 2 (94.9), region 1 has the least variance between each well. "
   ]
  },
  {
   "cell_type": "markdown",
   "metadata": {},
   "source": [
    "<div class=\"alert alert-success\">\n",
    "<b>Reviewer's comment</b>\n",
    "\n",
    "Region choice makes sense, well done!\n",
    "\n",
    "</div>"
   ]
  },
  {
   "cell_type": "code",
   "execution_count": null,
   "metadata": {},
   "outputs": [],
   "source": []
  }
 ],
 "metadata": {
  "ExecuteTimeLog": [
   {
    "duration": 4,
    "start_time": "2024-05-20T22:46:08.275Z"
   },
   {
    "duration": 121,
    "start_time": "2024-05-20T22:46:21.465Z"
   },
   {
    "duration": 166,
    "start_time": "2024-05-20T22:47:11.474Z"
   },
   {
    "duration": 24,
    "start_time": "2024-05-20T22:47:13.379Z"
   },
   {
    "duration": 25,
    "start_time": "2024-05-20T22:47:40.124Z"
   },
   {
    "duration": 408,
    "start_time": "2024-05-20T22:47:45.480Z"
   },
   {
    "duration": 466,
    "start_time": "2024-05-20T22:47:45.892Z"
   },
   {
    "duration": 25,
    "start_time": "2024-05-20T22:47:46.360Z"
   },
   {
    "duration": 17,
    "start_time": "2024-05-20T22:47:46.388Z"
   },
   {
    "duration": 17,
    "start_time": "2024-05-20T22:47:46.433Z"
   },
   {
    "duration": 16,
    "start_time": "2024-05-20T22:52:54.928Z"
   },
   {
    "duration": 12,
    "start_time": "2024-05-20T22:52:59.727Z"
   },
   {
    "duration": 15,
    "start_time": "2024-05-20T22:53:02.994Z"
   },
   {
    "duration": 9,
    "start_time": "2024-05-20T22:53:24.973Z"
   },
   {
    "duration": 24,
    "start_time": "2024-05-20T22:53:27.425Z"
   },
   {
    "duration": 59,
    "start_time": "2024-05-20T22:54:06.988Z"
   },
   {
    "duration": 55,
    "start_time": "2024-05-20T22:54:09.855Z"
   },
   {
    "duration": 57,
    "start_time": "2024-05-20T22:54:12.168Z"
   },
   {
    "duration": 16,
    "start_time": "2024-05-20T22:56:06.823Z"
   },
   {
    "duration": 6,
    "start_time": "2024-05-20T22:58:36.352Z"
   },
   {
    "duration": 308,
    "start_time": "2024-05-20T23:53:22.045Z"
   },
   {
    "duration": 1150,
    "start_time": "2024-05-20T23:53:39.930Z"
   },
   {
    "duration": 505,
    "start_time": "2024-05-20T23:53:41.083Z"
   },
   {
    "duration": 26,
    "start_time": "2024-05-20T23:53:41.590Z"
   },
   {
    "duration": 13,
    "start_time": "2024-05-20T23:53:41.619Z"
   },
   {
    "duration": 14,
    "start_time": "2024-05-20T23:53:41.636Z"
   },
   {
    "duration": 96,
    "start_time": "2024-05-20T23:53:41.653Z"
   },
   {
    "duration": 68,
    "start_time": "2024-05-20T23:53:41.752Z"
   },
   {
    "duration": 61,
    "start_time": "2024-05-20T23:53:41.823Z"
   },
   {
    "duration": 39,
    "start_time": "2024-05-20T23:53:41.887Z"
   },
   {
    "duration": 7,
    "start_time": "2024-05-20T23:53:41.929Z"
   },
   {
    "duration": 440,
    "start_time": "2024-05-20T23:53:41.939Z"
   },
   {
    "duration": 18,
    "start_time": "2024-05-20T23:57:45.377Z"
   },
   {
    "duration": 1158,
    "start_time": "2024-05-21T00:03:12.972Z"
   },
   {
    "duration": 386,
    "start_time": "2024-05-21T00:03:14.134Z"
   },
   {
    "duration": 20,
    "start_time": "2024-05-21T00:03:14.523Z"
   },
   {
    "duration": 13,
    "start_time": "2024-05-21T00:03:14.549Z"
   },
   {
    "duration": 45,
    "start_time": "2024-05-21T00:03:14.567Z"
   },
   {
    "duration": 62,
    "start_time": "2024-05-21T00:03:14.616Z"
   },
   {
    "duration": 74,
    "start_time": "2024-05-21T00:03:14.681Z"
   },
   {
    "duration": 81,
    "start_time": "2024-05-21T00:03:14.758Z"
   },
   {
    "duration": 21,
    "start_time": "2024-05-21T00:03:14.842Z"
   },
   {
    "duration": 8,
    "start_time": "2024-05-21T00:03:14.866Z"
   },
   {
    "duration": 47,
    "start_time": "2024-05-21T00:03:14.877Z"
   },
   {
    "duration": 623,
    "start_time": "2024-05-21T00:03:14.927Z"
   },
   {
    "duration": 21,
    "start_time": "2024-05-21T00:05:32.734Z"
   },
   {
    "duration": 17,
    "start_time": "2024-05-21T00:05:42.207Z"
   },
   {
    "duration": 68,
    "start_time": "2024-05-21T00:05:44.886Z"
   },
   {
    "duration": 1222,
    "start_time": "2024-05-21T00:14:14.103Z"
   },
   {
    "duration": 379,
    "start_time": "2024-05-21T00:14:15.330Z"
   },
   {
    "duration": 18,
    "start_time": "2024-05-21T00:14:15.715Z"
   },
   {
    "duration": 15,
    "start_time": "2024-05-21T00:14:15.735Z"
   },
   {
    "duration": 16,
    "start_time": "2024-05-21T00:14:15.756Z"
   },
   {
    "duration": 62,
    "start_time": "2024-05-21T00:14:15.811Z"
   },
   {
    "duration": 75,
    "start_time": "2024-05-21T00:14:15.876Z"
   },
   {
    "duration": 76,
    "start_time": "2024-05-21T00:14:15.955Z"
   },
   {
    "duration": 20,
    "start_time": "2024-05-21T00:14:16.033Z"
   },
   {
    "duration": 8,
    "start_time": "2024-05-21T00:14:16.056Z"
   },
   {
    "duration": 51,
    "start_time": "2024-05-21T00:14:16.067Z"
   },
   {
    "duration": 493,
    "start_time": "2024-05-21T00:14:16.121Z"
   },
   {
    "duration": 1173,
    "start_time": "2024-05-21T00:14:27.928Z"
   },
   {
    "duration": 376,
    "start_time": "2024-05-21T00:14:29.104Z"
   },
   {
    "duration": 18,
    "start_time": "2024-05-21T00:14:29.483Z"
   },
   {
    "duration": 12,
    "start_time": "2024-05-21T00:14:29.512Z"
   },
   {
    "duration": 15,
    "start_time": "2024-05-21T00:14:29.528Z"
   },
   {
    "duration": 92,
    "start_time": "2024-05-21T00:14:29.545Z"
   },
   {
    "duration": 71,
    "start_time": "2024-05-21T00:14:29.640Z"
   },
   {
    "duration": 63,
    "start_time": "2024-05-21T00:14:29.714Z"
   },
   {
    "duration": 43,
    "start_time": "2024-05-21T00:14:29.780Z"
   },
   {
    "duration": 7,
    "start_time": "2024-05-21T00:14:29.828Z"
   },
   {
    "duration": 20,
    "start_time": "2024-05-21T00:14:29.839Z"
   },
   {
    "duration": 590,
    "start_time": "2024-05-21T00:14:29.863Z"
   },
   {
    "duration": 1159,
    "start_time": "2024-05-21T00:15:08.508Z"
   },
   {
    "duration": 371,
    "start_time": "2024-05-21T00:15:09.670Z"
   },
   {
    "duration": 19,
    "start_time": "2024-05-21T00:15:10.044Z"
   },
   {
    "duration": 13,
    "start_time": "2024-05-21T00:15:10.067Z"
   },
   {
    "duration": 13,
    "start_time": "2024-05-21T00:15:10.110Z"
   },
   {
    "duration": 83,
    "start_time": "2024-05-21T00:15:10.127Z"
   },
   {
    "duration": 56,
    "start_time": "2024-05-21T00:15:10.212Z"
   },
   {
    "duration": 78,
    "start_time": "2024-05-21T00:15:10.271Z"
   },
   {
    "duration": 19,
    "start_time": "2024-05-21T00:15:10.352Z"
   },
   {
    "duration": 7,
    "start_time": "2024-05-21T00:15:10.375Z"
   },
   {
    "duration": 17,
    "start_time": "2024-05-21T00:15:10.410Z"
   },
   {
    "duration": 864,
    "start_time": "2024-05-21T00:15:10.430Z"
   },
   {
    "duration": 14,
    "start_time": "2024-05-21T00:16:28.008Z"
   },
   {
    "duration": 17,
    "start_time": "2024-05-21T00:16:38.072Z"
   },
   {
    "duration": 187,
    "start_time": "2024-05-21T00:17:25.054Z"
   },
   {
    "duration": 20,
    "start_time": "2024-05-21T00:17:39.810Z"
   },
   {
    "duration": 19,
    "start_time": "2024-05-21T00:18:00.432Z"
   },
   {
    "duration": 19,
    "start_time": "2024-05-21T00:18:08.692Z"
   },
   {
    "duration": 9,
    "start_time": "2024-05-21T00:18:12.060Z"
   },
   {
    "duration": 1196,
    "start_time": "2024-05-21T00:26:12.485Z"
   },
   {
    "duration": 395,
    "start_time": "2024-05-21T00:26:13.684Z"
   },
   {
    "duration": 28,
    "start_time": "2024-05-21T00:26:14.081Z"
   },
   {
    "duration": 14,
    "start_time": "2024-05-21T00:26:14.112Z"
   },
   {
    "duration": 13,
    "start_time": "2024-05-21T00:26:14.130Z"
   },
   {
    "duration": 96,
    "start_time": "2024-05-21T00:26:14.146Z"
   },
   {
    "duration": 67,
    "start_time": "2024-05-21T00:26:14.244Z"
   },
   {
    "duration": 59,
    "start_time": "2024-05-21T00:26:14.316Z"
   },
   {
    "duration": 39,
    "start_time": "2024-05-21T00:26:14.378Z"
   },
   {
    "duration": 6,
    "start_time": "2024-05-21T00:26:14.419Z"
   },
   {
    "duration": 19,
    "start_time": "2024-05-21T00:26:14.428Z"
   },
   {
    "duration": 20,
    "start_time": "2024-05-21T00:26:14.450Z"
   },
   {
    "duration": 51,
    "start_time": "2024-05-21T00:26:14.473Z"
   },
   {
    "duration": 429,
    "start_time": "2024-05-21T00:26:14.530Z"
   },
   {
    "duration": 0,
    "start_time": "2024-05-21T00:26:14.963Z"
   },
   {
    "duration": 7,
    "start_time": "2024-05-21T00:26:51.903Z"
   },
   {
    "duration": 4,
    "start_time": "2024-05-21T00:28:06.002Z"
   },
   {
    "duration": 22,
    "start_time": "2024-05-21T00:28:36.526Z"
   },
   {
    "duration": 17,
    "start_time": "2024-05-21T00:28:42.961Z"
   },
   {
    "duration": 1333,
    "start_time": "2024-05-21T00:46:29.902Z"
   },
   {
    "duration": 385,
    "start_time": "2024-05-21T00:46:31.240Z"
   },
   {
    "duration": 19,
    "start_time": "2024-05-21T00:46:31.628Z"
   },
   {
    "duration": 14,
    "start_time": "2024-05-21T00:46:31.651Z"
   },
   {
    "duration": 44,
    "start_time": "2024-05-21T00:46:31.671Z"
   },
   {
    "duration": 67,
    "start_time": "2024-05-21T00:46:31.719Z"
   },
   {
    "duration": 77,
    "start_time": "2024-05-21T00:46:31.788Z"
   },
   {
    "duration": 93,
    "start_time": "2024-05-21T00:46:31.869Z"
   },
   {
    "duration": 23,
    "start_time": "2024-05-21T00:46:31.965Z"
   },
   {
    "duration": 200,
    "start_time": "2024-05-21T00:46:32.010Z"
   },
   {
    "duration": 3,
    "start_time": "2024-05-21T00:46:32.212Z"
   },
   {
    "duration": 4,
    "start_time": "2024-05-21T00:46:32.218Z"
   },
   {
    "duration": 2,
    "start_time": "2024-05-21T00:46:32.225Z"
   },
   {
    "duration": 3,
    "start_time": "2024-05-21T00:46:32.237Z"
   },
   {
    "duration": 67,
    "start_time": "2024-05-21T00:46:32.242Z"
   },
   {
    "duration": 4,
    "start_time": "2024-05-21T00:46:32.312Z"
   },
   {
    "duration": 229,
    "start_time": "2024-05-21T00:46:51.282Z"
   },
   {
    "duration": 179,
    "start_time": "2024-05-21T00:49:42.830Z"
   },
   {
    "duration": 5,
    "start_time": "2024-05-21T00:56:09.108Z"
   },
   {
    "duration": 6,
    "start_time": "2024-05-21T01:08:19.541Z"
   },
   {
    "duration": 424,
    "start_time": "2024-05-21T02:07:45.261Z"
   },
   {
    "duration": 152,
    "start_time": "2024-05-21T02:10:55.774Z"
   },
   {
    "duration": 148,
    "start_time": "2024-05-21T02:11:31.663Z"
   },
   {
    "duration": 6,
    "start_time": "2024-05-21T02:13:29.514Z"
   },
   {
    "duration": 17,
    "start_time": "2024-05-21T02:13:55.353Z"
   },
   {
    "duration": 6,
    "start_time": "2024-05-21T02:14:32.098Z"
   },
   {
    "duration": 18,
    "start_time": "2024-05-21T02:14:33.703Z"
   },
   {
    "duration": 16,
    "start_time": "2024-05-21T02:14:55.038Z"
   },
   {
    "duration": 18,
    "start_time": "2024-05-21T02:15:12.249Z"
   },
   {
    "duration": 7,
    "start_time": "2024-05-21T02:19:52.944Z"
   },
   {
    "duration": 10,
    "start_time": "2024-05-21T02:20:44.625Z"
   },
   {
    "duration": 6,
    "start_time": "2024-05-21T02:21:06.929Z"
   },
   {
    "duration": 48,
    "start_time": "2024-05-21T02:22:04.613Z"
   },
   {
    "duration": 18,
    "start_time": "2024-05-21T02:22:53.132Z"
   },
   {
    "duration": 13,
    "start_time": "2024-05-21T02:23:07.829Z"
   },
   {
    "duration": 24,
    "start_time": "2024-05-21T02:23:57.556Z"
   },
   {
    "duration": 6,
    "start_time": "2024-05-21T02:24:02.612Z"
   },
   {
    "duration": 1182,
    "start_time": "2024-05-21T02:25:23.487Z"
   },
   {
    "duration": 380,
    "start_time": "2024-05-21T02:25:24.673Z"
   },
   {
    "duration": 20,
    "start_time": "2024-05-21T02:25:25.059Z"
   },
   {
    "duration": 37,
    "start_time": "2024-05-21T02:25:25.085Z"
   },
   {
    "duration": 13,
    "start_time": "2024-05-21T02:25:25.126Z"
   },
   {
    "duration": 85,
    "start_time": "2024-05-21T02:25:25.142Z"
   },
   {
    "duration": 55,
    "start_time": "2024-05-21T02:25:25.230Z"
   },
   {
    "duration": 91,
    "start_time": "2024-05-21T02:25:25.287Z"
   },
   {
    "duration": 43,
    "start_time": "2024-05-21T02:25:25.381Z"
   },
   {
    "duration": 6,
    "start_time": "2024-05-21T02:25:25.426Z"
   },
   {
    "duration": 19,
    "start_time": "2024-05-21T02:25:25.436Z"
   },
   {
    "duration": 56,
    "start_time": "2024-05-21T02:25:25.458Z"
   },
   {
    "duration": 22,
    "start_time": "2024-05-21T02:25:25.519Z"
   },
   {
    "duration": 7,
    "start_time": "2024-05-21T02:25:25.544Z"
   },
   {
    "duration": 0,
    "start_time": "2024-05-21T02:25:25.554Z"
   },
   {
    "duration": 0,
    "start_time": "2024-05-21T02:25:25.556Z"
   },
   {
    "duration": 1,
    "start_time": "2024-05-21T02:25:25.558Z"
   },
   {
    "duration": 0,
    "start_time": "2024-05-21T02:25:25.562Z"
   },
   {
    "duration": 1227,
    "start_time": "2024-05-21T02:25:38.102Z"
   },
   {
    "duration": 394,
    "start_time": "2024-05-21T02:25:39.332Z"
   },
   {
    "duration": 22,
    "start_time": "2024-05-21T02:25:39.729Z"
   },
   {
    "duration": 15,
    "start_time": "2024-05-21T02:25:39.754Z"
   },
   {
    "duration": 40,
    "start_time": "2024-05-21T02:25:39.774Z"
   },
   {
    "duration": 61,
    "start_time": "2024-05-21T02:25:39.816Z"
   },
   {
    "duration": 78,
    "start_time": "2024-05-21T02:25:39.880Z"
   },
   {
    "duration": 82,
    "start_time": "2024-05-21T02:25:39.961Z"
   },
   {
    "duration": 20,
    "start_time": "2024-05-21T02:25:40.046Z"
   },
   {
    "duration": 6,
    "start_time": "2024-05-21T02:25:40.068Z"
   },
   {
    "duration": 50,
    "start_time": "2024-05-21T02:25:40.076Z"
   },
   {
    "duration": 19,
    "start_time": "2024-05-21T02:25:40.128Z"
   },
   {
    "duration": 24,
    "start_time": "2024-05-21T02:25:40.150Z"
   },
   {
    "duration": 6,
    "start_time": "2024-05-21T02:25:40.211Z"
   },
   {
    "duration": 28,
    "start_time": "2024-05-21T02:25:40.221Z"
   },
   {
    "duration": 70,
    "start_time": "2024-05-21T02:25:40.252Z"
   },
   {
    "duration": 87,
    "start_time": "2024-05-21T02:25:40.325Z"
   },
   {
    "duration": 5,
    "start_time": "2024-05-21T02:25:40.415Z"
   },
   {
    "duration": 1154,
    "start_time": "2024-05-21T02:26:45.382Z"
   },
   {
    "duration": 377,
    "start_time": "2024-05-21T02:26:46.540Z"
   },
   {
    "duration": 22,
    "start_time": "2024-05-21T02:26:46.920Z"
   },
   {
    "duration": 13,
    "start_time": "2024-05-21T02:26:46.945Z"
   },
   {
    "duration": 50,
    "start_time": "2024-05-21T02:26:46.964Z"
   },
   {
    "duration": 62,
    "start_time": "2024-05-21T02:26:47.016Z"
   },
   {
    "duration": 72,
    "start_time": "2024-05-21T02:26:47.081Z"
   },
   {
    "duration": 78,
    "start_time": "2024-05-21T02:26:47.156Z"
   },
   {
    "duration": 20,
    "start_time": "2024-05-21T02:26:47.237Z"
   },
   {
    "duration": 6,
    "start_time": "2024-05-21T02:26:47.260Z"
   },
   {
    "duration": 53,
    "start_time": "2024-05-21T02:26:47.268Z"
   },
   {
    "duration": 20,
    "start_time": "2024-05-21T02:26:47.324Z"
   },
   {
    "duration": 26,
    "start_time": "2024-05-21T02:26:47.350Z"
   },
   {
    "duration": 29,
    "start_time": "2024-05-21T02:26:47.381Z"
   },
   {
    "duration": 21,
    "start_time": "2024-05-21T02:26:47.413Z"
   },
   {
    "duration": 77,
    "start_time": "2024-05-21T02:26:47.437Z"
   },
   {
    "duration": 92,
    "start_time": "2024-05-21T02:26:47.517Z"
   },
   {
    "duration": 5,
    "start_time": "2024-05-21T02:26:47.612Z"
   },
   {
    "duration": 6,
    "start_time": "2024-05-21T02:47:49.452Z"
   },
   {
    "duration": 1208,
    "start_time": "2024-05-21T02:48:19.495Z"
   },
   {
    "duration": 372,
    "start_time": "2024-05-21T02:48:20.708Z"
   },
   {
    "duration": 26,
    "start_time": "2024-05-21T02:48:21.084Z"
   },
   {
    "duration": 15,
    "start_time": "2024-05-21T02:48:21.114Z"
   },
   {
    "duration": 12,
    "start_time": "2024-05-21T02:48:21.134Z"
   },
   {
    "duration": 101,
    "start_time": "2024-05-21T02:48:21.150Z"
   },
   {
    "duration": 70,
    "start_time": "2024-05-21T02:48:21.254Z"
   },
   {
    "duration": 85,
    "start_time": "2024-05-21T02:48:21.327Z"
   },
   {
    "duration": 22,
    "start_time": "2024-05-21T02:48:21.415Z"
   },
   {
    "duration": 6,
    "start_time": "2024-05-21T02:48:21.441Z"
   },
   {
    "duration": 25,
    "start_time": "2024-05-21T02:48:21.450Z"
   },
   {
    "duration": 22,
    "start_time": "2024-05-21T02:48:21.509Z"
   },
   {
    "duration": 21,
    "start_time": "2024-05-21T02:48:21.534Z"
   },
   {
    "duration": 5,
    "start_time": "2024-05-21T02:48:21.561Z"
   },
   {
    "duration": 56,
    "start_time": "2024-05-21T02:48:21.570Z"
   },
   {
    "duration": 89,
    "start_time": "2024-05-21T02:48:21.629Z"
   },
   {
    "duration": 94,
    "start_time": "2024-05-21T02:48:21.721Z"
   },
   {
    "duration": 7,
    "start_time": "2024-05-21T02:48:21.818Z"
   },
   {
    "duration": 8,
    "start_time": "2024-05-21T02:48:21.828Z"
   },
   {
    "duration": 497,
    "start_time": "2024-05-21T02:48:21.838Z"
   },
   {
    "duration": 37,
    "start_time": "2024-05-21T02:49:14.206Z"
   },
   {
    "duration": 17,
    "start_time": "2024-05-21T02:49:55.570Z"
   },
   {
    "duration": 21,
    "start_time": "2024-05-21T02:50:17.696Z"
   },
   {
    "duration": 17,
    "start_time": "2024-05-21T02:50:22.320Z"
   },
   {
    "duration": 5,
    "start_time": "2024-05-21T02:50:26.173Z"
   },
   {
    "duration": 300,
    "start_time": "2024-05-21T02:50:29.537Z"
   },
   {
    "duration": 507,
    "start_time": "2024-05-21T02:51:36.467Z"
   },
   {
    "duration": 5,
    "start_time": "2024-05-21T02:53:36.121Z"
   },
   {
    "duration": 43,
    "start_time": "2024-05-21T02:53:39.423Z"
   },
   {
    "duration": 4,
    "start_time": "2024-05-21T02:54:23.189Z"
   },
   {
    "duration": 35,
    "start_time": "2024-05-21T02:54:25.576Z"
   },
   {
    "duration": 5,
    "start_time": "2024-05-21T02:54:40.074Z"
   },
   {
    "duration": 63,
    "start_time": "2024-05-21T02:55:07.349Z"
   },
   {
    "duration": 1254,
    "start_time": "2024-05-21T02:56:03.721Z"
   },
   {
    "duration": 428,
    "start_time": "2024-05-21T02:56:04.979Z"
   },
   {
    "duration": 25,
    "start_time": "2024-05-21T02:56:05.410Z"
   },
   {
    "duration": 13,
    "start_time": "2024-05-21T02:56:05.439Z"
   },
   {
    "duration": 13,
    "start_time": "2024-05-21T02:56:05.456Z"
   },
   {
    "duration": 62,
    "start_time": "2024-05-21T02:56:05.508Z"
   },
   {
    "duration": 81,
    "start_time": "2024-05-21T02:56:05.573Z"
   },
   {
    "duration": 79,
    "start_time": "2024-05-21T02:56:05.657Z"
   },
   {
    "duration": 23,
    "start_time": "2024-05-21T02:56:05.739Z"
   },
   {
    "duration": 6,
    "start_time": "2024-05-21T02:56:05.765Z"
   },
   {
    "duration": 47,
    "start_time": "2024-05-21T02:56:05.774Z"
   },
   {
    "duration": 20,
    "start_time": "2024-05-21T02:56:05.825Z"
   },
   {
    "duration": 19,
    "start_time": "2024-05-21T02:56:05.848Z"
   },
   {
    "duration": 37,
    "start_time": "2024-05-21T02:56:05.873Z"
   },
   {
    "duration": 30,
    "start_time": "2024-05-21T02:56:05.914Z"
   },
   {
    "duration": 88,
    "start_time": "2024-05-21T02:56:05.950Z"
   },
   {
    "duration": 96,
    "start_time": "2024-05-21T02:56:06.112Z"
   },
   {
    "duration": 10,
    "start_time": "2024-05-21T02:56:06.212Z"
   },
   {
    "duration": 11,
    "start_time": "2024-05-21T02:56:06.225Z"
   },
   {
    "duration": 296,
    "start_time": "2024-05-21T02:56:06.240Z"
   },
   {
    "duration": 0,
    "start_time": "2024-05-21T02:56:06.539Z"
   },
   {
    "duration": 0,
    "start_time": "2024-05-21T02:56:06.541Z"
   },
   {
    "duration": 0,
    "start_time": "2024-05-21T02:56:06.542Z"
   },
   {
    "duration": 24,
    "start_time": "2024-05-21T02:56:25.316Z"
   },
   {
    "duration": 6,
    "start_time": "2024-05-21T02:57:09.608Z"
   },
   {
    "duration": 16,
    "start_time": "2024-05-21T02:57:12.799Z"
   },
   {
    "duration": 17,
    "start_time": "2024-05-21T02:57:14.529Z"
   },
   {
    "duration": 16,
    "start_time": "2024-05-21T02:57:15.817Z"
   },
   {
    "duration": 6,
    "start_time": "2024-05-21T02:59:43.222Z"
   },
   {
    "duration": 1170,
    "start_time": "2024-05-21T02:59:58.318Z"
   },
   {
    "duration": 375,
    "start_time": "2024-05-21T02:59:59.491Z"
   },
   {
    "duration": 20,
    "start_time": "2024-05-21T02:59:59.869Z"
   },
   {
    "duration": 27,
    "start_time": "2024-05-21T02:59:59.892Z"
   },
   {
    "duration": 17,
    "start_time": "2024-05-21T02:59:59.925Z"
   },
   {
    "duration": 99,
    "start_time": "2024-05-21T02:59:59.945Z"
   },
   {
    "duration": 69,
    "start_time": "2024-05-21T03:00:00.047Z"
   },
   {
    "duration": 62,
    "start_time": "2024-05-21T03:00:00.119Z"
   },
   {
    "duration": 40,
    "start_time": "2024-05-21T03:00:00.183Z"
   },
   {
    "duration": 5,
    "start_time": "2024-05-21T03:00:00.228Z"
   },
   {
    "duration": 19,
    "start_time": "2024-05-21T03:00:00.236Z"
   },
   {
    "duration": 56,
    "start_time": "2024-05-21T03:00:00.257Z"
   },
   {
    "duration": 19,
    "start_time": "2024-05-21T03:00:00.316Z"
   },
   {
    "duration": 5,
    "start_time": "2024-05-21T03:00:00.340Z"
   },
   {
    "duration": 61,
    "start_time": "2024-05-21T03:00:00.348Z"
   },
   {
    "duration": 17,
    "start_time": "2024-05-21T03:00:00.411Z"
   },
   {
    "duration": 83,
    "start_time": "2024-05-21T03:00:00.431Z"
   },
   {
    "duration": 7,
    "start_time": "2024-05-21T03:00:00.517Z"
   },
   {
    "duration": 85,
    "start_time": "2024-05-21T03:00:00.527Z"
   },
   {
    "duration": 95,
    "start_time": "2024-05-21T03:00:00.615Z"
   },
   {
    "duration": 14,
    "start_time": "2024-05-21T03:00:00.713Z"
   },
   {
    "duration": 12,
    "start_time": "2024-05-21T03:00:00.730Z"
   },
   {
    "duration": 464,
    "start_time": "2024-05-21T03:00:00.746Z"
   },
   {
    "duration": 1190,
    "start_time": "2024-05-21T03:01:03.449Z"
   },
   {
    "duration": 418,
    "start_time": "2024-05-21T03:01:04.644Z"
   },
   {
    "duration": 18,
    "start_time": "2024-05-21T03:01:05.065Z"
   },
   {
    "duration": 30,
    "start_time": "2024-05-21T03:01:05.086Z"
   },
   {
    "duration": 14,
    "start_time": "2024-05-21T03:01:05.124Z"
   },
   {
    "duration": 87,
    "start_time": "2024-05-21T03:01:05.141Z"
   },
   {
    "duration": 54,
    "start_time": "2024-05-21T03:01:05.231Z"
   },
   {
    "duration": 78,
    "start_time": "2024-05-21T03:01:05.288Z"
   },
   {
    "duration": 41,
    "start_time": "2024-05-21T03:01:05.369Z"
   },
   {
    "duration": 6,
    "start_time": "2024-05-21T03:01:05.414Z"
   },
   {
    "duration": 19,
    "start_time": "2024-05-21T03:01:05.422Z"
   },
   {
    "duration": 19,
    "start_time": "2024-05-21T03:01:05.443Z"
   },
   {
    "duration": 58,
    "start_time": "2024-05-21T03:01:05.464Z"
   },
   {
    "duration": 5,
    "start_time": "2024-05-21T03:01:05.529Z"
   },
   {
    "duration": 18,
    "start_time": "2024-05-21T03:01:05.538Z"
   },
   {
    "duration": 100,
    "start_time": "2024-05-21T03:01:05.609Z"
   },
   {
    "duration": 98,
    "start_time": "2024-05-21T03:01:05.717Z"
   },
   {
    "duration": 7,
    "start_time": "2024-05-21T03:01:05.823Z"
   },
   {
    "duration": 7,
    "start_time": "2024-05-21T03:01:05.912Z"
   },
   {
    "duration": 17,
    "start_time": "2024-05-21T03:01:05.922Z"
   },
   {
    "duration": 68,
    "start_time": "2024-05-21T03:01:05.942Z"
   },
   {
    "duration": 16,
    "start_time": "2024-05-21T03:01:06.013Z"
   },
   {
    "duration": 422,
    "start_time": "2024-05-21T03:01:06.031Z"
   },
   {
    "duration": 53,
    "start_time": "2024-05-21T03:05:16.666Z"
   },
   {
    "duration": 39,
    "start_time": "2024-05-21T03:07:18.422Z"
   },
   {
    "duration": 59,
    "start_time": "2024-05-21T03:08:15.202Z"
   },
   {
    "duration": 5,
    "start_time": "2024-05-21T03:08:16.520Z"
   },
   {
    "duration": 21,
    "start_time": "2024-05-21T03:08:17.539Z"
   },
   {
    "duration": 12,
    "start_time": "2024-05-21T03:08:35.577Z"
   },
   {
    "duration": 1171,
    "start_time": "2024-05-21T03:08:44.739Z"
   },
   {
    "duration": 375,
    "start_time": "2024-05-21T03:08:45.913Z"
   },
   {
    "duration": 23,
    "start_time": "2024-05-21T03:08:46.291Z"
   },
   {
    "duration": 14,
    "start_time": "2024-05-21T03:08:46.320Z"
   },
   {
    "duration": 14,
    "start_time": "2024-05-21T03:08:46.340Z"
   },
   {
    "duration": 108,
    "start_time": "2024-05-21T03:08:46.357Z"
   },
   {
    "duration": 79,
    "start_time": "2024-05-21T03:08:46.469Z"
   },
   {
    "duration": 77,
    "start_time": "2024-05-21T03:08:46.553Z"
   },
   {
    "duration": 24,
    "start_time": "2024-05-21T03:08:46.634Z"
   },
   {
    "duration": 6,
    "start_time": "2024-05-21T03:08:46.662Z"
   },
   {
    "duration": 48,
    "start_time": "2024-05-21T03:08:46.672Z"
   },
   {
    "duration": 20,
    "start_time": "2024-05-21T03:08:46.723Z"
   },
   {
    "duration": 22,
    "start_time": "2024-05-21T03:08:46.746Z"
   },
   {
    "duration": 5,
    "start_time": "2024-05-21T03:08:46.808Z"
   },
   {
    "duration": 25,
    "start_time": "2024-05-21T03:08:46.818Z"
   },
   {
    "duration": 77,
    "start_time": "2024-05-21T03:08:46.849Z"
   },
   {
    "duration": 92,
    "start_time": "2024-05-21T03:08:46.932Z"
   },
   {
    "duration": 8,
    "start_time": "2024-05-21T03:08:47.028Z"
   },
   {
    "duration": 77,
    "start_time": "2024-05-21T03:08:47.039Z"
   },
   {
    "duration": 18,
    "start_time": "2024-05-21T03:08:47.120Z"
   },
   {
    "duration": 82,
    "start_time": "2024-05-21T03:08:47.141Z"
   },
   {
    "duration": 14,
    "start_time": "2024-05-21T03:08:47.226Z"
   },
   {
    "duration": 637,
    "start_time": "2024-05-21T03:08:47.244Z"
   },
   {
    "duration": 7,
    "start_time": "2024-05-21T03:08:53.765Z"
   },
   {
    "duration": 1202,
    "start_time": "2024-05-21T03:08:58.185Z"
   },
   {
    "duration": 377,
    "start_time": "2024-05-21T03:08:59.391Z"
   },
   {
    "duration": 17,
    "start_time": "2024-05-21T03:08:59.771Z"
   },
   {
    "duration": 31,
    "start_time": "2024-05-21T03:08:59.791Z"
   },
   {
    "duration": 16,
    "start_time": "2024-05-21T03:08:59.827Z"
   },
   {
    "duration": 97,
    "start_time": "2024-05-21T03:08:59.846Z"
   },
   {
    "duration": 72,
    "start_time": "2024-05-21T03:08:59.948Z"
   },
   {
    "duration": 64,
    "start_time": "2024-05-21T03:09:00.023Z"
   },
   {
    "duration": 22,
    "start_time": "2024-05-21T03:09:00.109Z"
   },
   {
    "duration": 6,
    "start_time": "2024-05-21T03:09:00.134Z"
   },
   {
    "duration": 21,
    "start_time": "2024-05-21T03:09:00.143Z"
   },
   {
    "duration": 57,
    "start_time": "2024-05-21T03:09:00.167Z"
   },
   {
    "duration": 23,
    "start_time": "2024-05-21T03:09:00.227Z"
   },
   {
    "duration": 7,
    "start_time": "2024-05-21T03:09:00.256Z"
   },
   {
    "duration": 55,
    "start_time": "2024-05-21T03:09:00.266Z"
   },
   {
    "duration": 93,
    "start_time": "2024-05-21T03:09:00.325Z"
   },
   {
    "duration": 20,
    "start_time": "2024-05-21T03:09:00.421Z"
   },
   {
    "duration": 67,
    "start_time": "2024-05-21T03:09:00.443Z"
   },
   {
    "duration": 5,
    "start_time": "2024-05-21T03:09:00.514Z"
   },
   {
    "duration": 85,
    "start_time": "2024-05-21T03:09:00.522Z"
   },
   {
    "duration": 12,
    "start_time": "2024-05-21T03:09:00.611Z"
   },
   {
    "duration": 11,
    "start_time": "2024-05-21T03:09:00.626Z"
   },
   {
    "duration": 501,
    "start_time": "2024-05-21T03:09:00.639Z"
   },
   {
    "duration": 5,
    "start_time": "2024-05-21T03:11:11.662Z"
   },
   {
    "duration": 11,
    "start_time": "2024-05-21T03:11:13.106Z"
   },
   {
    "duration": 11,
    "start_time": "2024-05-21T03:11:14.369Z"
   },
   {
    "duration": 10,
    "start_time": "2024-05-21T03:11:15.570Z"
   },
   {
    "duration": 296,
    "start_time": "2024-05-21T03:13:33.554Z"
   },
   {
    "duration": 23,
    "start_time": "2024-05-21T03:14:51.332Z"
   },
   {
    "duration": 11,
    "start_time": "2024-05-21T03:14:54.961Z"
   },
   {
    "duration": 1200,
    "start_time": "2024-05-21T03:15:13.484Z"
   },
   {
    "duration": 394,
    "start_time": "2024-05-21T03:15:14.688Z"
   },
   {
    "duration": 28,
    "start_time": "2024-05-21T03:15:15.086Z"
   },
   {
    "duration": 13,
    "start_time": "2024-05-21T03:15:15.117Z"
   },
   {
    "duration": 13,
    "start_time": "2024-05-21T03:15:15.135Z"
   },
   {
    "duration": 96,
    "start_time": "2024-05-21T03:15:15.151Z"
   },
   {
    "duration": 66,
    "start_time": "2024-05-21T03:15:15.250Z"
   },
   {
    "duration": 62,
    "start_time": "2024-05-21T03:15:15.319Z"
   },
   {
    "duration": 19,
    "start_time": "2024-05-21T03:15:15.408Z"
   },
   {
    "duration": 5,
    "start_time": "2024-05-21T03:15:15.430Z"
   },
   {
    "duration": 18,
    "start_time": "2024-05-21T03:15:15.439Z"
   },
   {
    "duration": 55,
    "start_time": "2024-05-21T03:15:15.461Z"
   },
   {
    "duration": 20,
    "start_time": "2024-05-21T03:15:15.521Z"
   },
   {
    "duration": 6,
    "start_time": "2024-05-21T03:15:15.546Z"
   },
   {
    "duration": 57,
    "start_time": "2024-05-21T03:15:15.555Z"
   },
   {
    "duration": 18,
    "start_time": "2024-05-21T03:15:15.615Z"
   },
   {
    "duration": 19,
    "start_time": "2024-05-21T03:15:15.712Z"
   },
   {
    "duration": 76,
    "start_time": "2024-05-21T03:15:15.734Z"
   },
   {
    "duration": 6,
    "start_time": "2024-05-21T03:15:15.813Z"
   },
   {
    "duration": 87,
    "start_time": "2024-05-21T03:15:15.823Z"
   },
   {
    "duration": 12,
    "start_time": "2024-05-21T03:15:15.912Z"
   },
   {
    "duration": 12,
    "start_time": "2024-05-21T03:15:15.927Z"
   },
   {
    "duration": 433,
    "start_time": "2024-05-21T03:15:15.941Z"
   },
   {
    "duration": 14,
    "start_time": "2024-05-21T03:16:16.814Z"
   },
   {
    "duration": 13,
    "start_time": "2024-05-21T03:16:26.137Z"
   },
   {
    "duration": 13,
    "start_time": "2024-05-21T03:16:34.944Z"
   },
   {
    "duration": 1235,
    "start_time": "2024-05-21T03:16:39.789Z"
   },
   {
    "duration": 395,
    "start_time": "2024-05-21T03:16:41.028Z"
   },
   {
    "duration": 19,
    "start_time": "2024-05-21T03:16:41.426Z"
   },
   {
    "duration": 13,
    "start_time": "2024-05-21T03:16:41.448Z"
   },
   {
    "duration": 47,
    "start_time": "2024-05-21T03:16:41.467Z"
   },
   {
    "duration": 62,
    "start_time": "2024-05-21T03:16:41.517Z"
   },
   {
    "duration": 79,
    "start_time": "2024-05-21T03:16:41.582Z"
   },
   {
    "duration": 81,
    "start_time": "2024-05-21T03:16:41.664Z"
   },
   {
    "duration": 20,
    "start_time": "2024-05-21T03:16:41.748Z"
   },
   {
    "duration": 6,
    "start_time": "2024-05-21T03:16:41.771Z"
   },
   {
    "duration": 20,
    "start_time": "2024-05-21T03:16:41.808Z"
   },
   {
    "duration": 19,
    "start_time": "2024-05-21T03:16:41.831Z"
   },
   {
    "duration": 19,
    "start_time": "2024-05-21T03:16:41.852Z"
   },
   {
    "duration": 5,
    "start_time": "2024-05-21T03:16:41.909Z"
   },
   {
    "duration": 21,
    "start_time": "2024-05-21T03:16:41.917Z"
   },
   {
    "duration": 79,
    "start_time": "2024-05-21T03:16:41.941Z"
   },
   {
    "duration": 91,
    "start_time": "2024-05-21T03:16:42.023Z"
   },
   {
    "duration": 6,
    "start_time": "2024-05-21T03:16:42.116Z"
   },
   {
    "duration": 6,
    "start_time": "2024-05-21T03:16:42.125Z"
   },
   {
    "duration": 19,
    "start_time": "2024-05-21T03:16:42.211Z"
   },
   {
    "duration": 85,
    "start_time": "2024-05-21T03:16:42.233Z"
   },
   {
    "duration": 11,
    "start_time": "2024-05-21T03:16:42.321Z"
   },
   {
    "duration": 442,
    "start_time": "2024-05-21T03:16:42.335Z"
   },
   {
    "duration": 13,
    "start_time": "2024-05-21T03:17:08.827Z"
   },
   {
    "duration": 1268,
    "start_time": "2024-05-21T03:17:22.087Z"
   },
   {
    "duration": 403,
    "start_time": "2024-05-21T03:17:23.359Z"
   },
   {
    "duration": 19,
    "start_time": "2024-05-21T03:17:23.766Z"
   },
   {
    "duration": 25,
    "start_time": "2024-05-21T03:17:23.789Z"
   },
   {
    "duration": 15,
    "start_time": "2024-05-21T03:17:23.820Z"
   },
   {
    "duration": 102,
    "start_time": "2024-05-21T03:17:23.839Z"
   },
   {
    "duration": 75,
    "start_time": "2024-05-21T03:17:23.945Z"
   },
   {
    "duration": 94,
    "start_time": "2024-05-21T03:17:24.024Z"
   },
   {
    "duration": 27,
    "start_time": "2024-05-21T03:17:24.123Z"
   },
   {
    "duration": 6,
    "start_time": "2024-05-21T03:17:24.153Z"
   },
   {
    "duration": 50,
    "start_time": "2024-05-21T03:17:24.164Z"
   },
   {
    "duration": 23,
    "start_time": "2024-05-21T03:17:24.217Z"
   },
   {
    "duration": 20,
    "start_time": "2024-05-21T03:17:24.244Z"
   },
   {
    "duration": 6,
    "start_time": "2024-05-21T03:17:24.270Z"
   },
   {
    "duration": 26,
    "start_time": "2024-05-21T03:17:24.310Z"
   },
   {
    "duration": 87,
    "start_time": "2024-05-21T03:17:24.343Z"
   },
   {
    "duration": 98,
    "start_time": "2024-05-21T03:17:24.434Z"
   },
   {
    "duration": 75,
    "start_time": "2024-05-21T03:17:24.537Z"
   },
   {
    "duration": 11,
    "start_time": "2024-05-21T03:17:24.615Z"
   },
   {
    "duration": 82,
    "start_time": "2024-05-21T03:17:24.630Z"
   },
   {
    "duration": 11,
    "start_time": "2024-05-21T03:17:24.715Z"
   },
   {
    "duration": 11,
    "start_time": "2024-05-21T03:17:24.730Z"
   },
   {
    "duration": 488,
    "start_time": "2024-05-21T03:17:24.745Z"
   },
   {
    "duration": 5,
    "start_time": "2024-05-21T03:18:37.782Z"
   },
   {
    "duration": 12,
    "start_time": "2024-05-21T03:18:40.782Z"
   },
   {
    "duration": 5,
    "start_time": "2024-05-21T03:20:01.173Z"
   },
   {
    "duration": 11,
    "start_time": "2024-05-21T03:20:02.910Z"
   },
   {
    "duration": 6,
    "start_time": "2024-05-21T04:35:24.333Z"
   },
   {
    "duration": 10,
    "start_time": "2024-05-21T04:35:25.647Z"
   },
   {
    "duration": 20,
    "start_time": "2024-05-21T04:35:32.599Z"
   },
   {
    "duration": 11,
    "start_time": "2024-05-21T04:35:34.350Z"
   },
   {
    "duration": 12,
    "start_time": "2024-05-21T04:36:18.045Z"
   },
   {
    "duration": 14,
    "start_time": "2024-05-21T04:36:19.351Z"
   },
   {
    "duration": 12,
    "start_time": "2024-05-21T04:36:21.138Z"
   },
   {
    "duration": 10,
    "start_time": "2024-05-21T04:47:58.514Z"
   },
   {
    "duration": 1809,
    "start_time": "2024-05-21T04:48:44.589Z"
   },
   {
    "duration": 682,
    "start_time": "2024-05-21T04:49:01.477Z"
   },
   {
    "duration": 10,
    "start_time": "2024-05-21T04:55:32.635Z"
   },
   {
    "duration": 1212,
    "start_time": "2024-05-21T04:55:37.038Z"
   },
   {
    "duration": 9,
    "start_time": "2024-05-21T04:55:57.951Z"
   },
   {
    "duration": 849,
    "start_time": "2024-05-21T04:55:59.372Z"
   },
   {
    "duration": 9,
    "start_time": "2024-05-21T04:56:31.538Z"
   },
   {
    "duration": 1380,
    "start_time": "2024-05-21T04:56:35.292Z"
   },
   {
    "duration": 9,
    "start_time": "2024-05-21T04:57:21.187Z"
   },
   {
    "duration": 48,
    "start_time": "2024-05-21T04:57:22.393Z"
   },
   {
    "duration": 13,
    "start_time": "2024-05-21T04:58:44.802Z"
   },
   {
    "duration": 897,
    "start_time": "2024-05-21T04:58:46.895Z"
   },
   {
    "duration": 8,
    "start_time": "2024-05-21T04:58:58.786Z"
   },
   {
    "duration": 663,
    "start_time": "2024-05-21T04:59:00.549Z"
   },
   {
    "duration": 661,
    "start_time": "2024-05-21T04:59:05.798Z"
   },
   {
    "duration": 678,
    "start_time": "2024-05-21T04:59:13.561Z"
   },
   {
    "duration": 669,
    "start_time": "2024-05-21T04:59:23.551Z"
   },
   {
    "duration": 673,
    "start_time": "2024-05-21T04:59:27.574Z"
   },
   {
    "duration": 658,
    "start_time": "2024-05-21T04:59:31.152Z"
   },
   {
    "duration": 675,
    "start_time": "2024-05-21T04:59:35.973Z"
   },
   {
    "duration": 1149,
    "start_time": "2024-05-21T04:59:53.054Z"
   },
   {
    "duration": 368,
    "start_time": "2024-05-21T04:59:54.206Z"
   },
   {
    "duration": 35,
    "start_time": "2024-05-21T04:59:54.577Z"
   },
   {
    "duration": 20,
    "start_time": "2024-05-21T04:59:54.616Z"
   },
   {
    "duration": 12,
    "start_time": "2024-05-21T04:59:54.640Z"
   },
   {
    "duration": 90,
    "start_time": "2024-05-21T04:59:54.655Z"
   },
   {
    "duration": 78,
    "start_time": "2024-05-21T04:59:54.747Z"
   },
   {
    "duration": 59,
    "start_time": "2024-05-21T04:59:54.827Z"
   },
   {
    "duration": 40,
    "start_time": "2024-05-21T04:59:54.889Z"
   },
   {
    "duration": 6,
    "start_time": "2024-05-21T04:59:54.933Z"
   },
   {
    "duration": 20,
    "start_time": "2024-05-21T04:59:54.943Z"
   },
   {
    "duration": 57,
    "start_time": "2024-05-21T04:59:54.967Z"
   },
   {
    "duration": 19,
    "start_time": "2024-05-21T04:59:55.027Z"
   },
   {
    "duration": 5,
    "start_time": "2024-05-21T04:59:55.052Z"
   },
   {
    "duration": 56,
    "start_time": "2024-05-21T04:59:55.061Z"
   },
   {
    "duration": 91,
    "start_time": "2024-05-21T04:59:55.120Z"
   },
   {
    "duration": 18,
    "start_time": "2024-05-21T04:59:55.214Z"
   },
   {
    "duration": 13,
    "start_time": "2024-05-21T04:59:55.313Z"
   },
   {
    "duration": 6,
    "start_time": "2024-05-21T04:59:55.329Z"
   },
   {
    "duration": 763,
    "start_time": "2024-05-21T04:59:55.338Z"
   },
   {
    "duration": 0,
    "start_time": "2024-05-21T04:59:56.110Z"
   },
   {
    "duration": 0,
    "start_time": "2024-05-21T04:59:56.112Z"
   },
   {
    "duration": 0,
    "start_time": "2024-05-21T04:59:56.114Z"
   },
   {
    "duration": 0,
    "start_time": "2024-05-21T04:59:56.116Z"
   },
   {
    "duration": 1192,
    "start_time": "2024-05-21T05:01:18.699Z"
   },
   {
    "duration": 364,
    "start_time": "2024-05-21T05:01:19.895Z"
   },
   {
    "duration": 18,
    "start_time": "2024-05-21T05:01:20.262Z"
   },
   {
    "duration": 33,
    "start_time": "2024-05-21T05:01:20.284Z"
   },
   {
    "duration": 14,
    "start_time": "2024-05-21T05:01:20.321Z"
   },
   {
    "duration": 89,
    "start_time": "2024-05-21T05:01:20.338Z"
   },
   {
    "duration": 80,
    "start_time": "2024-05-21T05:01:20.429Z"
   },
   {
    "duration": 67,
    "start_time": "2024-05-21T05:01:20.513Z"
   },
   {
    "duration": 39,
    "start_time": "2024-05-21T05:01:20.583Z"
   },
   {
    "duration": 5,
    "start_time": "2024-05-21T05:01:20.625Z"
   },
   {
    "duration": 18,
    "start_time": "2024-05-21T05:01:20.633Z"
   },
   {
    "duration": 56,
    "start_time": "2024-05-21T05:01:20.654Z"
   },
   {
    "duration": 19,
    "start_time": "2024-05-21T05:01:20.713Z"
   },
   {
    "duration": 5,
    "start_time": "2024-05-21T05:01:20.738Z"
   },
   {
    "duration": 61,
    "start_time": "2024-05-21T05:01:20.746Z"
   },
   {
    "duration": 15,
    "start_time": "2024-05-21T05:01:20.811Z"
   },
   {
    "duration": 88,
    "start_time": "2024-05-21T05:01:20.829Z"
   },
   {
    "duration": 6,
    "start_time": "2024-05-21T05:01:20.920Z"
   },
   {
    "duration": 77,
    "start_time": "2024-05-21T05:01:20.934Z"
   },
   {
    "duration": 777,
    "start_time": "2024-05-21T05:01:21.014Z"
   },
   {
    "duration": 0,
    "start_time": "2024-05-21T05:01:21.794Z"
   },
   {
    "duration": 0,
    "start_time": "2024-05-21T05:01:21.797Z"
   },
   {
    "duration": 0,
    "start_time": "2024-05-21T05:01:21.799Z"
   },
   {
    "duration": 0,
    "start_time": "2024-05-21T05:01:21.800Z"
   },
   {
    "duration": 5,
    "start_time": "2024-05-21T05:01:40.490Z"
   },
   {
    "duration": 90,
    "start_time": "2024-05-21T05:01:42.771Z"
   },
   {
    "duration": 5,
    "start_time": "2024-05-21T05:02:15.033Z"
   },
   {
    "duration": 13,
    "start_time": "2024-05-21T05:02:19.347Z"
   },
   {
    "duration": 1170,
    "start_time": "2024-05-21T05:02:24.489Z"
   },
   {
    "duration": 374,
    "start_time": "2024-05-21T05:02:25.663Z"
   },
   {
    "duration": 18,
    "start_time": "2024-05-21T05:02:26.039Z"
   },
   {
    "duration": 13,
    "start_time": "2024-05-21T05:02:26.060Z"
   },
   {
    "duration": 39,
    "start_time": "2024-05-21T05:02:26.078Z"
   },
   {
    "duration": 89,
    "start_time": "2024-05-21T05:02:26.123Z"
   },
   {
    "duration": 55,
    "start_time": "2024-05-21T05:02:26.215Z"
   },
   {
    "duration": 79,
    "start_time": "2024-05-21T05:02:26.273Z"
   },
   {
    "duration": 21,
    "start_time": "2024-05-21T05:02:26.354Z"
   },
   {
    "duration": 34,
    "start_time": "2024-05-21T05:02:26.378Z"
   },
   {
    "duration": 19,
    "start_time": "2024-05-21T05:02:26.415Z"
   },
   {
    "duration": 19,
    "start_time": "2024-05-21T05:02:26.437Z"
   },
   {
    "duration": 56,
    "start_time": "2024-05-21T05:02:26.459Z"
   },
   {
    "duration": 7,
    "start_time": "2024-05-21T05:02:26.521Z"
   },
   {
    "duration": 18,
    "start_time": "2024-05-21T05:02:26.531Z"
   },
   {
    "duration": 69,
    "start_time": "2024-05-21T05:02:26.551Z"
   },
   {
    "duration": 88,
    "start_time": "2024-05-21T05:02:26.623Z"
   },
   {
    "duration": 6,
    "start_time": "2024-05-21T05:02:26.715Z"
   },
   {
    "duration": 6,
    "start_time": "2024-05-21T05:02:26.724Z"
   },
   {
    "duration": 79,
    "start_time": "2024-05-21T05:02:26.732Z"
   },
   {
    "duration": 23,
    "start_time": "2024-05-21T05:02:26.814Z"
   },
   {
    "duration": 12,
    "start_time": "2024-05-21T05:02:26.908Z"
   },
   {
    "duration": 12,
    "start_time": "2024-05-21T05:02:26.922Z"
   },
   {
    "duration": 730,
    "start_time": "2024-05-21T05:02:26.937Z"
   },
   {
    "duration": 721,
    "start_time": "2024-05-21T05:02:32.143Z"
   },
   {
    "duration": 644,
    "start_time": "2024-05-21T05:02:39.774Z"
   },
   {
    "duration": 695,
    "start_time": "2024-05-21T05:02:43.573Z"
   },
   {
    "duration": 643,
    "start_time": "2024-05-21T05:02:46.395Z"
   },
   {
    "duration": 655,
    "start_time": "2024-05-21T05:02:49.997Z"
   },
   {
    "duration": 8,
    "start_time": "2024-05-21T05:05:58.915Z"
   },
   {
    "duration": 684,
    "start_time": "2024-05-21T05:06:00.641Z"
   },
   {
    "duration": 9,
    "start_time": "2024-05-21T05:06:49.758Z"
   },
   {
    "duration": 689,
    "start_time": "2024-05-21T05:06:51.064Z"
   },
   {
    "duration": 9,
    "start_time": "2024-05-21T05:07:26.781Z"
   },
   {
    "duration": 719,
    "start_time": "2024-05-21T05:07:28.191Z"
   },
   {
    "duration": 8,
    "start_time": "2024-05-21T05:07:51.616Z"
   },
   {
    "duration": 658,
    "start_time": "2024-05-21T05:07:53.168Z"
   },
   {
    "duration": 9,
    "start_time": "2024-05-21T05:08:55.724Z"
   },
   {
    "duration": 664,
    "start_time": "2024-05-21T05:08:57.644Z"
   },
   {
    "duration": 10,
    "start_time": "2024-05-21T05:09:37.958Z"
   },
   {
    "duration": 647,
    "start_time": "2024-05-21T05:09:39.177Z"
   },
   {
    "duration": 11,
    "start_time": "2024-05-21T05:09:59.287Z"
   },
   {
    "duration": 679,
    "start_time": "2024-05-21T05:10:03.421Z"
   },
   {
    "duration": 9,
    "start_time": "2024-05-21T05:10:21.730Z"
   },
   {
    "duration": 679,
    "start_time": "2024-05-21T05:10:24.450Z"
   },
   {
    "duration": 10,
    "start_time": "2024-05-21T05:10:33.236Z"
   },
   {
    "duration": 688,
    "start_time": "2024-05-21T05:10:34.507Z"
   },
   {
    "duration": 9,
    "start_time": "2024-05-21T05:11:02.334Z"
   },
   {
    "duration": 674,
    "start_time": "2024-05-21T05:11:04.878Z"
   },
   {
    "duration": 9,
    "start_time": "2024-05-21T05:11:18.467Z"
   },
   {
    "duration": 659,
    "start_time": "2024-05-21T05:11:20.903Z"
   },
   {
    "duration": 9,
    "start_time": "2024-05-21T05:11:27.525Z"
   },
   {
    "duration": 8,
    "start_time": "2024-05-21T05:11:32.621Z"
   },
   {
    "duration": 644,
    "start_time": "2024-05-21T05:11:38.912Z"
   },
   {
    "duration": 1194,
    "start_time": "2024-05-21T05:12:04.743Z"
   },
   {
    "duration": 381,
    "start_time": "2024-05-21T05:12:05.941Z"
   },
   {
    "duration": 17,
    "start_time": "2024-05-21T05:12:06.325Z"
   },
   {
    "duration": 14,
    "start_time": "2024-05-21T05:12:06.348Z"
   },
   {
    "duration": 45,
    "start_time": "2024-05-21T05:12:06.365Z"
   },
   {
    "duration": 58,
    "start_time": "2024-05-21T05:12:06.413Z"
   },
   {
    "duration": 75,
    "start_time": "2024-05-21T05:12:06.474Z"
   },
   {
    "duration": 74,
    "start_time": "2024-05-21T05:12:06.552Z"
   },
   {
    "duration": 19,
    "start_time": "2024-05-21T05:12:06.629Z"
   },
   {
    "duration": 7,
    "start_time": "2024-05-21T05:12:06.654Z"
   },
   {
    "duration": 46,
    "start_time": "2024-05-21T05:12:06.664Z"
   },
   {
    "duration": 20,
    "start_time": "2024-05-21T05:12:06.712Z"
   },
   {
    "duration": 18,
    "start_time": "2024-05-21T05:12:06.735Z"
   },
   {
    "duration": 6,
    "start_time": "2024-05-21T05:12:06.756Z"
   },
   {
    "duration": 55,
    "start_time": "2024-05-21T05:12:06.765Z"
   },
   {
    "duration": 89,
    "start_time": "2024-05-21T05:12:06.822Z"
   },
   {
    "duration": 96,
    "start_time": "2024-05-21T05:12:06.914Z"
   },
   {
    "duration": 6,
    "start_time": "2024-05-21T05:12:07.014Z"
   },
   {
    "duration": 6,
    "start_time": "2024-05-21T05:12:07.023Z"
   },
   {
    "duration": 84,
    "start_time": "2024-05-21T05:12:07.032Z"
   },
   {
    "duration": 12,
    "start_time": "2024-05-21T05:12:07.120Z"
   },
   {
    "duration": 14,
    "start_time": "2024-05-21T05:12:07.134Z"
   },
   {
    "duration": 56,
    "start_time": "2024-05-21T05:12:07.152Z"
   },
   {
    "duration": 685,
    "start_time": "2024-05-21T05:12:07.212Z"
   },
   {
    "duration": 681,
    "start_time": "2024-05-21T05:12:07.900Z"
   },
   {
    "duration": 658,
    "start_time": "2024-05-21T05:12:08.585Z"
   },
   {
    "duration": 638,
    "start_time": "2024-05-21T05:12:19.461Z"
   },
   {
    "duration": 667,
    "start_time": "2024-05-21T05:12:20.751Z"
   },
   {
    "duration": 719,
    "start_time": "2024-05-21T05:12:23.700Z"
   },
   {
    "duration": 763,
    "start_time": "2024-05-21T05:12:25.036Z"
   },
   {
    "duration": 713,
    "start_time": "2024-05-21T05:12:26.315Z"
   },
   {
    "duration": 673,
    "start_time": "2024-05-21T05:12:29.008Z"
   },
   {
    "duration": 705,
    "start_time": "2024-05-21T05:12:30.417Z"
   },
   {
    "duration": 656,
    "start_time": "2024-05-21T05:12:31.650Z"
   },
   {
    "duration": 655,
    "start_time": "2024-05-21T05:12:37.648Z"
   },
   {
    "duration": 651,
    "start_time": "2024-05-21T05:12:40.015Z"
   },
   {
    "duration": 657,
    "start_time": "2024-05-21T05:12:43.090Z"
   },
   {
    "duration": 8,
    "start_time": "2024-05-21T05:14:31.049Z"
   },
   {
    "duration": 669,
    "start_time": "2024-05-21T05:16:13.276Z"
   },
   {
    "duration": 670,
    "start_time": "2024-05-21T05:16:18.881Z"
   },
   {
    "duration": 677,
    "start_time": "2024-05-21T05:16:21.342Z"
   },
   {
    "duration": 672,
    "start_time": "2024-05-21T05:16:22.599Z"
   },
   {
    "duration": 810,
    "start_time": "2024-05-21T05:16:23.849Z"
   },
   {
    "duration": 752,
    "start_time": "2024-05-21T05:16:27.075Z"
   },
   {
    "duration": 704,
    "start_time": "2024-05-21T05:16:28.943Z"
   },
   {
    "duration": 744,
    "start_time": "2024-05-21T05:16:30.192Z"
   },
   {
    "duration": 654,
    "start_time": "2024-05-21T05:16:33.274Z"
   },
   {
    "duration": 697,
    "start_time": "2024-05-21T05:16:34.813Z"
   },
   {
    "duration": 643,
    "start_time": "2024-05-21T05:16:36.532Z"
   },
   {
    "duration": 661,
    "start_time": "2024-05-21T05:16:40.499Z"
   },
   {
    "duration": 662,
    "start_time": "2024-05-21T05:16:41.688Z"
   },
   {
    "duration": 644,
    "start_time": "2024-05-21T05:16:43.076Z"
   },
   {
    "duration": 12,
    "start_time": "2024-05-21T05:17:03.353Z"
   },
   {
    "duration": 12,
    "start_time": "2024-05-21T05:17:04.117Z"
   },
   {
    "duration": 11,
    "start_time": "2024-05-21T05:17:04.702Z"
   },
   {
    "duration": 11,
    "start_time": "2024-05-21T05:17:06.626Z"
   },
   {
    "duration": 12,
    "start_time": "2024-05-21T05:17:07.079Z"
   },
   {
    "duration": 12,
    "start_time": "2024-05-21T05:17:07.819Z"
   },
   {
    "duration": 11,
    "start_time": "2024-05-21T05:17:09.516Z"
   },
   {
    "duration": 11,
    "start_time": "2024-05-21T05:17:09.968Z"
   },
   {
    "duration": 12,
    "start_time": "2024-05-21T05:17:10.385Z"
   },
   {
    "duration": 9,
    "start_time": "2024-05-21T05:34:36.613Z"
   },
   {
    "duration": 648,
    "start_time": "2024-05-21T05:34:38.647Z"
   },
   {
    "duration": 10,
    "start_time": "2024-05-21T05:34:54.771Z"
   },
   {
    "duration": 649,
    "start_time": "2024-05-21T05:34:58.044Z"
   },
   {
    "duration": 685,
    "start_time": "2024-05-21T05:35:03.126Z"
   },
   {
    "duration": 662,
    "start_time": "2024-05-21T05:35:05.812Z"
   },
   {
    "duration": 841,
    "start_time": "2024-05-21T05:35:50.644Z"
   },
   {
    "duration": 997,
    "start_time": "2024-05-21T05:35:53.017Z"
   },
   {
    "duration": 716,
    "start_time": "2024-05-21T05:35:56.068Z"
   },
   {
    "duration": 600,
    "start_time": "2024-05-21T05:36:58.205Z"
   },
   {
    "duration": 90,
    "start_time": "2024-05-21T05:37:20.562Z"
   },
   {
    "duration": 5466,
    "start_time": "2024-05-21T05:38:12.724Z"
   },
   {
    "duration": 506,
    "start_time": "2024-05-21T05:38:18.194Z"
   },
   {
    "duration": 16,
    "start_time": "2024-05-21T05:38:18.704Z"
   },
   {
    "duration": 14,
    "start_time": "2024-05-21T05:38:18.723Z"
   },
   {
    "duration": 15,
    "start_time": "2024-05-21T05:38:18.741Z"
   },
   {
    "duration": 111,
    "start_time": "2024-05-21T05:38:18.760Z"
   },
   {
    "duration": 92,
    "start_time": "2024-05-21T05:38:18.874Z"
   },
   {
    "duration": 87,
    "start_time": "2024-05-21T05:38:18.970Z"
   },
   {
    "duration": 29,
    "start_time": "2024-05-21T05:38:19.061Z"
   },
   {
    "duration": 8,
    "start_time": "2024-05-21T05:38:19.110Z"
   },
   {
    "duration": 21,
    "start_time": "2024-05-21T05:38:19.122Z"
   },
   {
    "duration": 62,
    "start_time": "2024-05-21T05:38:19.147Z"
   },
   {
    "duration": 22,
    "start_time": "2024-05-21T05:38:19.212Z"
   },
   {
    "duration": 8,
    "start_time": "2024-05-21T05:38:19.243Z"
   },
   {
    "duration": 608,
    "start_time": "2024-05-21T05:38:19.256Z"
   },
   {
    "duration": 0,
    "start_time": "2024-05-21T05:38:19.868Z"
   },
   {
    "duration": 0,
    "start_time": "2024-05-21T05:38:19.875Z"
   },
   {
    "duration": 0,
    "start_time": "2024-05-21T05:38:19.878Z"
   },
   {
    "duration": 0,
    "start_time": "2024-05-21T05:38:19.880Z"
   },
   {
    "duration": 0,
    "start_time": "2024-05-21T05:38:19.883Z"
   },
   {
    "duration": 0,
    "start_time": "2024-05-21T05:38:19.885Z"
   },
   {
    "duration": 0,
    "start_time": "2024-05-21T05:38:19.887Z"
   },
   {
    "duration": 0,
    "start_time": "2024-05-21T05:38:19.909Z"
   },
   {
    "duration": 0,
    "start_time": "2024-05-21T05:38:19.913Z"
   },
   {
    "duration": 0,
    "start_time": "2024-05-21T05:38:19.916Z"
   },
   {
    "duration": 0,
    "start_time": "2024-05-21T05:38:19.918Z"
   },
   {
    "duration": 0,
    "start_time": "2024-05-21T05:38:19.920Z"
   },
   {
    "duration": 7,
    "start_time": "2024-05-21T05:38:55.725Z"
   },
   {
    "duration": 1439,
    "start_time": "2024-05-21T05:38:58.317Z"
   },
   {
    "duration": 382,
    "start_time": "2024-05-21T05:38:59.759Z"
   },
   {
    "duration": 16,
    "start_time": "2024-05-21T05:39:00.145Z"
   },
   {
    "duration": 16,
    "start_time": "2024-05-21T05:39:00.165Z"
   },
   {
    "duration": 38,
    "start_time": "2024-05-21T05:39:00.183Z"
   },
   {
    "duration": 85,
    "start_time": "2024-05-21T05:39:00.224Z"
   },
   {
    "duration": 56,
    "start_time": "2024-05-21T05:39:00.312Z"
   },
   {
    "duration": 86,
    "start_time": "2024-05-21T05:39:00.371Z"
   },
   {
    "duration": 22,
    "start_time": "2024-05-21T05:39:00.460Z"
   },
   {
    "duration": 21,
    "start_time": "2024-05-21T05:39:00.488Z"
   },
   {
    "duration": 19,
    "start_time": "2024-05-21T05:39:00.513Z"
   },
   {
    "duration": 18,
    "start_time": "2024-05-21T05:39:00.535Z"
   },
   {
    "duration": 60,
    "start_time": "2024-05-21T05:39:00.556Z"
   },
   {
    "duration": 6,
    "start_time": "2024-05-21T05:39:00.619Z"
   },
   {
    "duration": 17,
    "start_time": "2024-05-21T05:39:00.628Z"
   },
   {
    "duration": 70,
    "start_time": "2024-05-21T05:39:00.647Z"
   },
   {
    "duration": 97,
    "start_time": "2024-05-21T05:39:00.721Z"
   },
   {
    "duration": 8,
    "start_time": "2024-05-21T05:39:00.821Z"
   },
   {
    "duration": 79,
    "start_time": "2024-05-21T05:39:00.832Z"
   },
   {
    "duration": 18,
    "start_time": "2024-05-21T05:39:00.914Z"
   },
   {
    "duration": 12,
    "start_time": "2024-05-21T05:39:01.010Z"
   },
   {
    "duration": 11,
    "start_time": "2024-05-21T05:39:01.024Z"
   },
   {
    "duration": 9,
    "start_time": "2024-05-21T05:39:01.038Z"
   },
   {
    "duration": 713,
    "start_time": "2024-05-21T05:39:01.050Z"
   },
   {
    "duration": 676,
    "start_time": "2024-05-21T05:39:01.767Z"
   },
   {
    "duration": 650,
    "start_time": "2024-05-21T05:39:02.446Z"
   },
   {
    "duration": 301,
    "start_time": "2024-05-21T05:39:03.099Z"
   },
   {
    "duration": 9,
    "start_time": "2024-05-21T05:40:49.009Z"
   },
   {
    "duration": 1328,
    "start_time": "2024-05-21T05:40:53.566Z"
   },
   {
    "duration": 1336,
    "start_time": "2024-05-21T05:40:56.411Z"
   },
   {
    "duration": 1318,
    "start_time": "2024-05-21T05:40:59.090Z"
   },
   {
    "duration": 207,
    "start_time": "2024-05-21T05:41:02.507Z"
   },
   {
    "duration": 9,
    "start_time": "2024-05-21T05:46:12.284Z"
   },
   {
    "duration": 1355,
    "start_time": "2024-05-21T05:46:16.468Z"
   },
   {
    "duration": 386,
    "start_time": "2024-05-21T05:46:17.826Z"
   },
   {
    "duration": 16,
    "start_time": "2024-05-21T05:46:18.214Z"
   },
   {
    "duration": 15,
    "start_time": "2024-05-21T05:46:18.233Z"
   },
   {
    "duration": 13,
    "start_time": "2024-05-21T05:46:18.252Z"
   },
   {
    "duration": 97,
    "start_time": "2024-05-21T05:46:18.267Z"
   },
   {
    "duration": 73,
    "start_time": "2024-05-21T05:46:18.367Z"
   },
   {
    "duration": 71,
    "start_time": "2024-05-21T05:46:18.443Z"
   },
   {
    "duration": 26,
    "start_time": "2024-05-21T05:46:18.517Z"
   },
   {
    "duration": 6,
    "start_time": "2024-05-21T05:46:18.545Z"
   },
   {
    "duration": 19,
    "start_time": "2024-05-21T05:46:18.554Z"
   },
   {
    "duration": 20,
    "start_time": "2024-05-21T05:46:18.608Z"
   },
   {
    "duration": 19,
    "start_time": "2024-05-21T05:46:18.631Z"
   },
   {
    "duration": 5,
    "start_time": "2024-05-21T05:46:18.657Z"
   },
   {
    "duration": 56,
    "start_time": "2024-05-21T05:46:18.665Z"
   },
   {
    "duration": 17,
    "start_time": "2024-05-21T05:46:18.728Z"
   },
   {
    "duration": 100,
    "start_time": "2024-05-21T05:46:18.812Z"
   },
   {
    "duration": 10,
    "start_time": "2024-05-21T05:46:18.924Z"
   },
   {
    "duration": 5,
    "start_time": "2024-05-21T05:46:19.011Z"
   },
   {
    "duration": 11,
    "start_time": "2024-05-21T05:46:19.020Z"
   },
   {
    "duration": 13,
    "start_time": "2024-05-21T05:46:19.034Z"
   },
   {
    "duration": 12,
    "start_time": "2024-05-21T05:46:19.050Z"
   },
   {
    "duration": 10,
    "start_time": "2024-05-21T05:46:19.108Z"
   },
   {
    "duration": 689,
    "start_time": "2024-05-21T05:46:19.121Z"
   },
   {
    "duration": 663,
    "start_time": "2024-05-21T05:46:19.816Z"
   },
   {
    "duration": 664,
    "start_time": "2024-05-21T05:46:20.482Z"
   },
   {
    "duration": 303,
    "start_time": "2024-05-21T05:46:21.149Z"
   },
   {
    "duration": 227,
    "start_time": "2024-05-21T05:46:47.297Z"
   },
   {
    "duration": 1533,
    "start_time": "2024-05-21T05:47:02.954Z"
   },
   {
    "duration": 507,
    "start_time": "2024-05-21T05:47:04.490Z"
   },
   {
    "duration": 25,
    "start_time": "2024-05-21T05:47:05.017Z"
   },
   {
    "duration": 23,
    "start_time": "2024-05-21T05:47:05.046Z"
   },
   {
    "duration": 48,
    "start_time": "2024-05-21T05:47:05.075Z"
   },
   {
    "duration": 103,
    "start_time": "2024-05-21T05:47:05.127Z"
   },
   {
    "duration": 85,
    "start_time": "2024-05-21T05:47:05.234Z"
   },
   {
    "duration": 68,
    "start_time": "2024-05-21T05:47:05.322Z"
   },
   {
    "duration": 21,
    "start_time": "2024-05-21T05:47:05.409Z"
   },
   {
    "duration": 8,
    "start_time": "2024-05-21T05:47:05.433Z"
   },
   {
    "duration": 20,
    "start_time": "2024-05-21T05:47:05.445Z"
   },
   {
    "duration": 20,
    "start_time": "2024-05-21T05:47:05.509Z"
   },
   {
    "duration": 21,
    "start_time": "2024-05-21T05:47:05.533Z"
   },
   {
    "duration": 6,
    "start_time": "2024-05-21T05:47:05.565Z"
   },
   {
    "duration": 55,
    "start_time": "2024-05-21T05:47:05.575Z"
   },
   {
    "duration": 96,
    "start_time": "2024-05-21T05:47:05.633Z"
   },
   {
    "duration": 172,
    "start_time": "2024-05-21T05:47:05.737Z"
   },
   {
    "duration": 10,
    "start_time": "2024-05-21T05:47:05.912Z"
   },
   {
    "duration": 9,
    "start_time": "2024-05-21T05:47:05.925Z"
   },
   {
    "duration": 85,
    "start_time": "2024-05-21T05:47:05.937Z"
   },
   {
    "duration": 14,
    "start_time": "2024-05-21T05:47:06.025Z"
   },
   {
    "duration": 16,
    "start_time": "2024-05-21T05:47:06.042Z"
   },
   {
    "duration": 48,
    "start_time": "2024-05-21T05:47:06.061Z"
   },
   {
    "duration": 737,
    "start_time": "2024-05-21T05:47:06.111Z"
   },
   {
    "duration": 753,
    "start_time": "2024-05-21T05:47:06.851Z"
   },
   {
    "duration": 731,
    "start_time": "2024-05-21T05:47:07.610Z"
   },
   {
    "duration": 369,
    "start_time": "2024-05-21T05:47:08.344Z"
   },
   {
    "duration": 250,
    "start_time": "2024-05-21T05:47:08.717Z"
   },
   {
    "duration": 259,
    "start_time": "2024-05-21T05:47:08.970Z"
   },
   {
    "duration": 1399,
    "start_time": "2024-05-21T06:04:04.572Z"
   },
   {
    "duration": 370,
    "start_time": "2024-05-21T06:04:05.975Z"
   },
   {
    "duration": 16,
    "start_time": "2024-05-21T06:04:06.347Z"
   },
   {
    "duration": 43,
    "start_time": "2024-05-21T06:04:06.365Z"
   },
   {
    "duration": 13,
    "start_time": "2024-05-21T06:04:06.412Z"
   },
   {
    "duration": 80,
    "start_time": "2024-05-21T06:04:06.428Z"
   },
   {
    "duration": 55,
    "start_time": "2024-05-21T06:04:06.511Z"
   },
   {
    "duration": 77,
    "start_time": "2024-05-21T06:04:06.569Z"
   },
   {
    "duration": 19,
    "start_time": "2024-05-21T06:04:06.649Z"
   },
   {
    "duration": 6,
    "start_time": "2024-05-21T06:04:06.671Z"
   },
   {
    "duration": 18,
    "start_time": "2024-05-21T06:04:06.708Z"
   },
   {
    "duration": 19,
    "start_time": "2024-05-21T06:04:06.729Z"
   },
   {
    "duration": 20,
    "start_time": "2024-05-21T06:04:06.751Z"
   },
   {
    "duration": 6,
    "start_time": "2024-05-21T06:04:06.809Z"
   },
   {
    "duration": 25,
    "start_time": "2024-05-21T06:04:06.817Z"
   },
   {
    "duration": 75,
    "start_time": "2024-05-21T06:04:06.845Z"
   },
   {
    "duration": 96,
    "start_time": "2024-05-21T06:04:06.923Z"
   },
   {
    "duration": 6,
    "start_time": "2024-05-21T06:04:07.022Z"
   },
   {
    "duration": 83,
    "start_time": "2024-05-21T06:04:07.031Z"
   },
   {
    "duration": 14,
    "start_time": "2024-05-21T06:04:07.117Z"
   },
   {
    "duration": 12,
    "start_time": "2024-05-21T06:04:07.210Z"
   },
   {
    "duration": 13,
    "start_time": "2024-05-21T06:04:07.225Z"
   },
   {
    "duration": 10,
    "start_time": "2024-05-21T06:04:07.240Z"
   },
   {
    "duration": 734,
    "start_time": "2024-05-21T06:04:07.253Z"
   },
   {
    "duration": 686,
    "start_time": "2024-05-21T06:04:07.992Z"
   },
   {
    "duration": 666,
    "start_time": "2024-05-21T06:04:08.681Z"
   },
   {
    "duration": 309,
    "start_time": "2024-05-21T06:04:09.350Z"
   },
   {
    "duration": 234,
    "start_time": "2024-05-21T06:04:09.662Z"
   },
   {
    "duration": 232,
    "start_time": "2024-05-21T06:04:09.908Z"
   },
   {
    "duration": 6,
    "start_time": "2024-05-21T06:06:02.196Z"
   },
   {
    "duration": 672,
    "start_time": "2024-05-21T06:13:04.941Z"
   },
   {
    "duration": 670,
    "start_time": "2024-05-21T06:13:06.125Z"
   },
   {
    "duration": 658,
    "start_time": "2024-05-21T06:13:08.674Z"
   },
   {
    "duration": 655,
    "start_time": "2024-05-21T06:13:09.906Z"
   },
   {
    "duration": 654,
    "start_time": "2024-05-21T06:13:11.154Z"
   },
   {
    "duration": 226,
    "start_time": "2024-05-21T06:21:06.869Z"
   },
   {
    "duration": 12,
    "start_time": "2024-05-21T06:21:41.464Z"
   },
   {
    "duration": 224,
    "start_time": "2024-05-21T06:22:22.658Z"
   },
   {
    "duration": 302,
    "start_time": "2024-05-21T06:22:50.884Z"
   },
   {
    "duration": 228,
    "start_time": "2024-05-21T06:23:11.328Z"
   },
   {
    "duration": 225,
    "start_time": "2024-05-21T06:23:22.463Z"
   },
   {
    "duration": 223,
    "start_time": "2024-05-21T06:23:30.780Z"
   },
   {
    "duration": 232,
    "start_time": "2024-05-21T06:23:38.439Z"
   },
   {
    "duration": 1379,
    "start_time": "2024-05-21T06:24:59.174Z"
   },
   {
    "duration": 367,
    "start_time": "2024-05-21T06:25:00.556Z"
   },
   {
    "duration": 17,
    "start_time": "2024-05-21T06:25:00.926Z"
   },
   {
    "duration": 14,
    "start_time": "2024-05-21T06:25:00.946Z"
   },
   {
    "duration": 45,
    "start_time": "2024-05-21T06:25:00.964Z"
   },
   {
    "duration": 59,
    "start_time": "2024-05-21T06:25:01.011Z"
   },
   {
    "duration": 79,
    "start_time": "2024-05-21T06:25:01.074Z"
   },
   {
    "duration": 75,
    "start_time": "2024-05-21T06:25:01.156Z"
   },
   {
    "duration": 18,
    "start_time": "2024-05-21T06:25:01.234Z"
   },
   {
    "duration": 6,
    "start_time": "2024-05-21T06:25:01.255Z"
   },
   {
    "duration": 46,
    "start_time": "2024-05-21T06:25:01.265Z"
   },
   {
    "duration": 19,
    "start_time": "2024-05-21T06:25:01.314Z"
   },
   {
    "duration": 19,
    "start_time": "2024-05-21T06:25:01.335Z"
   },
   {
    "duration": 6,
    "start_time": "2024-05-21T06:25:01.360Z"
   },
   {
    "duration": 20,
    "start_time": "2024-05-21T06:25:01.410Z"
   },
   {
    "duration": 89,
    "start_time": "2024-05-21T06:25:01.433Z"
   },
   {
    "duration": 90,
    "start_time": "2024-05-21T06:25:01.525Z"
   },
   {
    "duration": 8,
    "start_time": "2024-05-21T06:25:01.618Z"
   },
   {
    "duration": 8,
    "start_time": "2024-05-21T06:25:01.628Z"
   },
   {
    "duration": 86,
    "start_time": "2024-05-21T06:25:01.640Z"
   },
   {
    "duration": 14,
    "start_time": "2024-05-21T06:25:01.730Z"
   },
   {
    "duration": 13,
    "start_time": "2024-05-21T06:25:01.810Z"
   },
   {
    "duration": 9,
    "start_time": "2024-05-21T06:25:01.826Z"
   },
   {
    "duration": 711,
    "start_time": "2024-05-21T06:25:01.839Z"
   },
   {
    "duration": 682,
    "start_time": "2024-05-21T06:25:02.554Z"
   },
   {
    "duration": 654,
    "start_time": "2024-05-21T06:25:03.241Z"
   },
   {
    "duration": 298,
    "start_time": "2024-05-21T06:25:03.898Z"
   },
   {
    "duration": 245,
    "start_time": "2024-05-21T06:25:04.199Z"
   },
   {
    "duration": 248,
    "start_time": "2024-05-21T06:25:04.447Z"
   }
  ],
  "kernelspec": {
   "display_name": "Python 3 (ipykernel)",
   "language": "python",
   "name": "python3"
  },
  "language_info": {
   "codemirror_mode": {
    "name": "ipython",
    "version": 3
   },
   "file_extension": ".py",
   "mimetype": "text/x-python",
   "name": "python",
   "nbconvert_exporter": "python",
   "pygments_lexer": "ipython3",
   "version": "3.9.19"
  },
  "toc": {
   "base_numbering": 1,
   "nav_menu": {},
   "number_sections": true,
   "sideBar": true,
   "skip_h1_title": true,
   "title_cell": "Table of Contents",
   "title_sidebar": "Contents",
   "toc_cell": false,
   "toc_position": {},
   "toc_section_display": true,
   "toc_window_display": false
  }
 },
 "nbformat": 4,
 "nbformat_minor": 2
}
